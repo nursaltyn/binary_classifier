{
 "cells": [
  {
   "cell_type": "code",
   "execution_count": 2,
   "metadata": {},
   "outputs": [],
   "source": [
    "import pandas as pd\n",
    "import numpy as np\n",
    "from collections import Counter\n",
    "import math\n",
    "from scipy.stats.mstats import winsorize\n",
    "from sklearn.preprocessing import StandardScaler\n",
    "from utils.utils import eval_run, plot_conf_matrix\n",
    "\n",
    "import matplotlib.pyplot as plt\n",
    "import seaborn as sns\n",
    "from sklearn.model_selection import train_test_split\n",
    "from sklearn.linear_model import RidgeClassifier, LogisticRegression\n",
    "from sklearn.ensemble import RandomForestClassifier\n",
    "from sklearn.metrics import accuracy_score\n",
    "from sklearn.metrics import accuracy_score, confusion_matrix, classification_report\n",
    "from sklearn.metrics import f1_score\n",
    "from sklearn.model_selection import GridSearchCV\n",
    "from sklearn.metrics import make_scorer, f1_score\n",
    "from sklearn.linear_model import Lasso\n",
    "\n",
    "from imblearn.under_sampling import RandomUnderSampler\n",
    "from imblearn.combine import SMOTEENN\n",
    "from imblearn.over_sampling import SMOTE\n",
    "from imblearn.over_sampling import RandomOverSampler\n"
   ]
  },
  {
   "cell_type": "code",
   "execution_count": 3,
   "metadata": {},
   "outputs": [],
   "source": [
    "table_1 = pd.read_csv(r\"data/table_1.csv\", sep=';')\n",
    "table_2 = pd.read_csv(r\"data/table_2.csv\", sep=';')"
   ]
  },
  {
   "cell_type": "code",
   "execution_count": 4,
   "metadata": {},
   "outputs": [
    {
     "data": {
      "text/html": [
       "<div>\n",
       "<style scoped>\n",
       "    .dataframe tbody tr th:only-of-type {\n",
       "        vertical-align: middle;\n",
       "    }\n",
       "\n",
       "    .dataframe tbody tr th {\n",
       "        vertical-align: top;\n",
       "    }\n",
       "\n",
       "    .dataframe thead th {\n",
       "        text-align: right;\n",
       "    }\n",
       "</style>\n",
       "<table border=\"1\" class=\"dataframe\">\n",
       "  <thead>\n",
       "    <tr style=\"text-align: right;\">\n",
       "      <th></th>\n",
       "      <th>POUG</th>\n",
       "      <th>TRE</th>\n",
       "      <th>ID</th>\n",
       "      <th>ZUB</th>\n",
       "      <th>VOL</th>\n",
       "      <th>UIO</th>\n",
       "      <th>VBNM</th>\n",
       "      <th>Type</th>\n",
       "      <th>OIN</th>\n",
       "    </tr>\n",
       "  </thead>\n",
       "  <tbody>\n",
       "    <tr>\n",
       "      <th>86</th>\n",
       "      <td>0</td>\n",
       "      <td>0.000</td>\n",
       "      <td>86</td>\n",
       "      <td>t</td>\n",
       "      <td>f</td>\n",
       "      <td>NaN</td>\n",
       "      <td>f</td>\n",
       "      <td>n</td>\n",
       "      <td>42.25</td>\n",
       "    </tr>\n",
       "    <tr>\n",
       "      <th>2092</th>\n",
       "      <td>0</td>\n",
       "      <td>5.125</td>\n",
       "      <td>2092</td>\n",
       "      <td>f</td>\n",
       "      <td>t</td>\n",
       "      <td>wwww</td>\n",
       "      <td>f</td>\n",
       "      <td>y</td>\n",
       "      <td>42.00</td>\n",
       "    </tr>\n",
       "    <tr>\n",
       "      <th>2868</th>\n",
       "      <td>0</td>\n",
       "      <td>7.415</td>\n",
       "      <td>2868</td>\n",
       "      <td>t</td>\n",
       "      <td>t</td>\n",
       "      <td>wwww</td>\n",
       "      <td>f</td>\n",
       "      <td>y</td>\n",
       "      <td>34.25</td>\n",
       "    </tr>\n",
       "    <tr>\n",
       "      <th>3689</th>\n",
       "      <td>3</td>\n",
       "      <td>5.000</td>\n",
       "      <td>3689</td>\n",
       "      <td>t</td>\n",
       "      <td>t</td>\n",
       "      <td>wwww</td>\n",
       "      <td>t</td>\n",
       "      <td>y</td>\n",
       "      <td>NaN</td>\n",
       "    </tr>\n",
       "    <tr>\n",
       "      <th>3443</th>\n",
       "      <td>0</td>\n",
       "      <td>0.000</td>\n",
       "      <td>3443</td>\n",
       "      <td>f</td>\n",
       "      <td>f</td>\n",
       "      <td>uuuu</td>\n",
       "      <td>f</td>\n",
       "      <td>y</td>\n",
       "      <td>71.58</td>\n",
       "    </tr>\n",
       "    <tr>\n",
       "      <th>1468</th>\n",
       "      <td>0</td>\n",
       "      <td>0.375</td>\n",
       "      <td>1468</td>\n",
       "      <td>t</td>\n",
       "      <td>t</td>\n",
       "      <td>wwww</td>\n",
       "      <td>f</td>\n",
       "      <td>y</td>\n",
       "      <td>27.00</td>\n",
       "    </tr>\n",
       "    <tr>\n",
       "      <th>2457</th>\n",
       "      <td>11</td>\n",
       "      <td>5.335</td>\n",
       "      <td>2457</td>\n",
       "      <td>f</td>\n",
       "      <td>t</td>\n",
       "      <td>wwww</td>\n",
       "      <td>t</td>\n",
       "      <td>y</td>\n",
       "      <td>28.92</td>\n",
       "    </tr>\n",
       "    <tr>\n",
       "      <th>2797</th>\n",
       "      <td>1</td>\n",
       "      <td>0.460</td>\n",
       "      <td>2797</td>\n",
       "      <td>f</td>\n",
       "      <td>t</td>\n",
       "      <td>wwww</td>\n",
       "      <td>t</td>\n",
       "      <td>y</td>\n",
       "      <td>23.17</td>\n",
       "    </tr>\n",
       "    <tr>\n",
       "      <th>976</th>\n",
       "      <td>0</td>\n",
       "      <td>2.460</td>\n",
       "      <td>976</td>\n",
       "      <td>f</td>\n",
       "      <td>f</td>\n",
       "      <td>uuuu</td>\n",
       "      <td>f</td>\n",
       "      <td>y</td>\n",
       "      <td>22.50</td>\n",
       "    </tr>\n",
       "    <tr>\n",
       "      <th>3019</th>\n",
       "      <td>5</td>\n",
       "      <td>5.000</td>\n",
       "      <td>3019</td>\n",
       "      <td>f</td>\n",
       "      <td>t</td>\n",
       "      <td>wwww</td>\n",
       "      <td>t</td>\n",
       "      <td>y</td>\n",
       "      <td>55.92</td>\n",
       "    </tr>\n",
       "  </tbody>\n",
       "</table>\n",
       "</div>"
      ],
      "text/plain": [
       "      POUG    TRE    ID ZUB VOL   UIO VBNM Type    OIN\n",
       "86       0  0.000    86   t   f   NaN    f    n  42.25\n",
       "2092     0  5.125  2092   f   t  wwww    f    y  42.00\n",
       "2868     0  7.415  2868   t   t  wwww    f    y  34.25\n",
       "3689     3  5.000  3689   t   t  wwww    t    y    NaN\n",
       "3443     0  0.000  3443   f   f  uuuu    f    y  71.58\n",
       "1468     0  0.375  1468   t   t  wwww    f    y  27.00\n",
       "2457    11  5.335  2457   f   t  wwww    t    y  28.92\n",
       "2797     1  0.460  2797   f   t  wwww    t    y  23.17\n",
       "976      0  2.460   976   f   f  uuuu    f    y  22.50\n",
       "3019     5  5.000  3019   f   t  wwww    t    y  55.92"
      ]
     },
     "execution_count": 4,
     "metadata": {},
     "output_type": "execute_result"
    }
   ],
   "source": [
    "table_2.sample(10)"
   ]
  },
  {
   "cell_type": "markdown",
   "metadata": {},
   "source": [
    "### First, we will try to merge the two tables by the unique ID of the samples."
   ]
  },
  {
   "cell_type": "code",
   "execution_count": 5,
   "metadata": {},
   "outputs": [
    {
     "name": "stdout",
     "output_type": "stream",
     "text": [
      "4070\n",
      "3700\n"
     ]
    }
   ],
   "source": [
    "id_order = list(table_2['ID'])\n",
    "print(len(id_order))\n",
    "print(len(set(id_order)))"
   ]
  },
  {
   "cell_type": "markdown",
   "metadata": {},
   "source": [
    "There are duplicates in the data; remove them (first making sure that they are complete duplicates):"
   ]
  },
  {
   "cell_type": "code",
   "execution_count": 6,
   "metadata": {},
   "outputs": [
    {
     "data": {
      "text/html": [
       "<div>\n",
       "<style scoped>\n",
       "    .dataframe tbody tr th:only-of-type {\n",
       "        vertical-align: middle;\n",
       "    }\n",
       "\n",
       "    .dataframe tbody tr th {\n",
       "        vertical-align: top;\n",
       "    }\n",
       "\n",
       "    .dataframe thead th {\n",
       "        text-align: right;\n",
       "    }\n",
       "</style>\n",
       "<table border=\"1\" class=\"dataframe\">\n",
       "  <thead>\n",
       "    <tr style=\"text-align: right;\">\n",
       "      <th></th>\n",
       "      <th>POUG</th>\n",
       "      <th>TRE</th>\n",
       "      <th>ID</th>\n",
       "      <th>ZUB</th>\n",
       "      <th>VOL</th>\n",
       "      <th>UIO</th>\n",
       "      <th>VBNM</th>\n",
       "      <th>Type</th>\n",
       "      <th>OIN</th>\n",
       "    </tr>\n",
       "  </thead>\n",
       "  <tbody>\n",
       "    <tr>\n",
       "      <th>305</th>\n",
       "      <td>0</td>\n",
       "      <td>3.25</td>\n",
       "      <td>305</td>\n",
       "      <td>f</td>\n",
       "      <td>f</td>\n",
       "      <td>uuuu</td>\n",
       "      <td>f</td>\n",
       "      <td>n</td>\n",
       "      <td>22.25</td>\n",
       "    </tr>\n",
       "    <tr>\n",
       "      <th>3784</th>\n",
       "      <td>0</td>\n",
       "      <td>3.25</td>\n",
       "      <td>305</td>\n",
       "      <td>f</td>\n",
       "      <td>f</td>\n",
       "      <td>uuuu</td>\n",
       "      <td>f</td>\n",
       "      <td>n</td>\n",
       "      <td>22.25</td>\n",
       "    </tr>\n",
       "    <tr>\n",
       "      <th>3827</th>\n",
       "      <td>0</td>\n",
       "      <td>3.25</td>\n",
       "      <td>305</td>\n",
       "      <td>f</td>\n",
       "      <td>f</td>\n",
       "      <td>uuuu</td>\n",
       "      <td>f</td>\n",
       "      <td>n</td>\n",
       "      <td>22.25</td>\n",
       "    </tr>\n",
       "    <tr>\n",
       "      <th>4044</th>\n",
       "      <td>0</td>\n",
       "      <td>3.25</td>\n",
       "      <td>305</td>\n",
       "      <td>f</td>\n",
       "      <td>f</td>\n",
       "      <td>uuuu</td>\n",
       "      <td>f</td>\n",
       "      <td>n</td>\n",
       "      <td>22.25</td>\n",
       "    </tr>\n",
       "  </tbody>\n",
       "</table>\n",
       "</div>"
      ],
      "text/plain": [
       "      POUG   TRE   ID ZUB VOL   UIO VBNM Type    OIN\n",
       "305      0  3.25  305   f   f  uuuu    f    n  22.25\n",
       "3784     0  3.25  305   f   f  uuuu    f    n  22.25\n",
       "3827     0  3.25  305   f   f  uuuu    f    n  22.25\n",
       "4044     0  3.25  305   f   f  uuuu    f    n  22.25"
      ]
     },
     "execution_count": 6,
     "metadata": {},
     "output_type": "execute_result"
    }
   ],
   "source": [
    "table_2[table_2['ID']==305]"
   ]
  },
  {
   "cell_type": "markdown",
   "metadata": {},
   "source": [
    "Remove duplicates"
   ]
  },
  {
   "cell_type": "code",
   "execution_count": 7,
   "metadata": {},
   "outputs": [],
   "source": [
    "table_2 = table_2.drop_duplicates(subset=['ID'])\n",
    "table_1 = table_1.drop_duplicates(subset=['ID'])"
   ]
  },
  {
   "cell_type": "markdown",
   "metadata": {},
   "source": [
    "Order the IDs in table one in the same way as in table 2 to further merge them."
   ]
  },
  {
   "cell_type": "code",
   "execution_count": 8,
   "metadata": {},
   "outputs": [],
   "source": [
    "id_order = list(table_2['ID'])\n",
    "table_1['ID'] = pd.Categorical(table_1['ID'], categories=id_order, ordered=False)\n",
    "data = pd.merge(table_1, table_2, on='ID', how='inner') "
   ]
  },
  {
   "cell_type": "code",
   "execution_count": 10,
   "metadata": {},
   "outputs": [
    {
     "data": {
      "text/html": [
       "<div>\n",
       "<style scoped>\n",
       "    .dataframe tbody tr th:only-of-type {\n",
       "        vertical-align: middle;\n",
       "    }\n",
       "\n",
       "    .dataframe tbody tr th {\n",
       "        vertical-align: top;\n",
       "    }\n",
       "\n",
       "    .dataframe thead th {\n",
       "        text-align: right;\n",
       "    }\n",
       "</style>\n",
       "<table border=\"1\" class=\"dataframe\">\n",
       "  <thead>\n",
       "    <tr style=\"text-align: right;\">\n",
       "      <th></th>\n",
       "      <th>ID</th>\n",
       "      <th>UKL</th>\n",
       "      <th>GJAH</th>\n",
       "      <th>ZIK</th>\n",
       "      <th>HUI</th>\n",
       "      <th>ERZ</th>\n",
       "      <th>CDx</th>\n",
       "      <th>BJZHD</th>\n",
       "      <th>NKJUD</th>\n",
       "      <th>LPI</th>\n",
       "      <th>BJKG</th>\n",
       "      <th>POUG</th>\n",
       "      <th>TRE</th>\n",
       "      <th>ZUB</th>\n",
       "      <th>VOL</th>\n",
       "      <th>UIO</th>\n",
       "      <th>VBNM</th>\n",
       "      <th>Type</th>\n",
       "      <th>OIN</th>\n",
       "    </tr>\n",
       "  </thead>\n",
       "  <tbody>\n",
       "    <tr>\n",
       "      <th>0</th>\n",
       "      <td>0</td>\n",
       "      <td>160</td>\n",
       "      <td>oooo</td>\n",
       "      <td>x</td>\n",
       "      <td>oooo</td>\n",
       "      <td>www</td>\n",
       "      <td>5.0</td>\n",
       "      <td>vvvv</td>\n",
       "      <td>80.0</td>\n",
       "      <td>800000.0</td>\n",
       "      <td>qqqq</td>\n",
       "      <td>1</td>\n",
       "      <td>1.750</td>\n",
       "      <td>t</td>\n",
       "      <td>f</td>\n",
       "      <td>uuuu</td>\n",
       "      <td>t</td>\n",
       "      <td>n</td>\n",
       "      <td>17.92</td>\n",
       "    </tr>\n",
       "    <tr>\n",
       "      <th>1</th>\n",
       "      <td>1</td>\n",
       "      <td>153</td>\n",
       "      <td>rrr</td>\n",
       "      <td>NaN</td>\n",
       "      <td>uuu</td>\n",
       "      <td>pppp</td>\n",
       "      <td>0.0</td>\n",
       "      <td>mmm</td>\n",
       "      <td>200.0</td>\n",
       "      <td>2000000.0</td>\n",
       "      <td>qqqq</td>\n",
       "      <td>0</td>\n",
       "      <td>0.290</td>\n",
       "      <td>f</td>\n",
       "      <td>f</td>\n",
       "      <td>wwww</td>\n",
       "      <td>f</td>\n",
       "      <td>n</td>\n",
       "      <td>16.92</td>\n",
       "    </tr>\n",
       "    <tr>\n",
       "      <th>2</th>\n",
       "      <td>2</td>\n",
       "      <td>5</td>\n",
       "      <td>oooo</td>\n",
       "      <td>x</td>\n",
       "      <td>oooo</td>\n",
       "      <td>www</td>\n",
       "      <td>19.0</td>\n",
       "      <td>hh</td>\n",
       "      <td>96.0</td>\n",
       "      <td>960000.0</td>\n",
       "      <td>hh</td>\n",
       "      <td>1</td>\n",
       "      <td>0.000</td>\n",
       "      <td>f</td>\n",
       "      <td>f</td>\n",
       "      <td>wwww</td>\n",
       "      <td>t</td>\n",
       "      <td>n</td>\n",
       "      <td>31.25</td>\n",
       "    </tr>\n",
       "    <tr>\n",
       "      <th>3</th>\n",
       "      <td>3</td>\n",
       "      <td>9</td>\n",
       "      <td>oooo</td>\n",
       "      <td>NaN</td>\n",
       "      <td>oooo</td>\n",
       "      <td>www</td>\n",
       "      <td>120.0</td>\n",
       "      <td>kkk</td>\n",
       "      <td>0.0</td>\n",
       "      <td>0.0</td>\n",
       "      <td>qqq</td>\n",
       "      <td>0</td>\n",
       "      <td>0.335</td>\n",
       "      <td>f</td>\n",
       "      <td>f</td>\n",
       "      <td>uuuu</td>\n",
       "      <td>f</td>\n",
       "      <td>n</td>\n",
       "      <td>48.17</td>\n",
       "    </tr>\n",
       "    <tr>\n",
       "      <th>4</th>\n",
       "      <td>4</td>\n",
       "      <td>40</td>\n",
       "      <td>oooo</td>\n",
       "      <td>y</td>\n",
       "      <td>oooo</td>\n",
       "      <td>www</td>\n",
       "      <td>0.0</td>\n",
       "      <td>mmm</td>\n",
       "      <td>232.0</td>\n",
       "      <td>2320000.0</td>\n",
       "      <td>qqqq</td>\n",
       "      <td>0</td>\n",
       "      <td>0.500</td>\n",
       "      <td>t</td>\n",
       "      <td>f</td>\n",
       "      <td>wwww</td>\n",
       "      <td>f</td>\n",
       "      <td>n</td>\n",
       "      <td>32.33</td>\n",
       "    </tr>\n",
       "    <tr>\n",
       "      <th>...</th>\n",
       "      <td>...</td>\n",
       "      <td>...</td>\n",
       "      <td>...</td>\n",
       "      <td>...</td>\n",
       "      <td>...</td>\n",
       "      <td>...</td>\n",
       "      <td>...</td>\n",
       "      <td>...</td>\n",
       "      <td>...</td>\n",
       "      <td>...</td>\n",
       "      <td>...</td>\n",
       "      <td>...</td>\n",
       "      <td>...</td>\n",
       "      <td>...</td>\n",
       "      <td>...</td>\n",
       "      <td>...</td>\n",
       "      <td>...</td>\n",
       "      <td>...</td>\n",
       "      <td>...</td>\n",
       "    </tr>\n",
       "    <tr>\n",
       "      <th>3695</th>\n",
       "      <td>3695</td>\n",
       "      <td>74</td>\n",
       "      <td>oooo</td>\n",
       "      <td>x</td>\n",
       "      <td>oooo</td>\n",
       "      <td>www</td>\n",
       "      <td>26726.0</td>\n",
       "      <td>sss</td>\n",
       "      <td>NaN</td>\n",
       "      <td>NaN</td>\n",
       "      <td>qqqq</td>\n",
       "      <td>5</td>\n",
       "      <td>2.710</td>\n",
       "      <td>f</td>\n",
       "      <td>t</td>\n",
       "      <td>uuuu</td>\n",
       "      <td>t</td>\n",
       "      <td>y</td>\n",
       "      <td>18.75</td>\n",
       "    </tr>\n",
       "    <tr>\n",
       "      <th>3696</th>\n",
       "      <td>3696</td>\n",
       "      <td>179</td>\n",
       "      <td>oooo</td>\n",
       "      <td>x</td>\n",
       "      <td>oooo</td>\n",
       "      <td>www</td>\n",
       "      <td>0.0</td>\n",
       "      <td>sss</td>\n",
       "      <td>120.0</td>\n",
       "      <td>1200000.0</td>\n",
       "      <td>qqqq</td>\n",
       "      <td>5</td>\n",
       "      <td>8.500</td>\n",
       "      <td>t</td>\n",
       "      <td>t</td>\n",
       "      <td>uuuu</td>\n",
       "      <td>t</td>\n",
       "      <td>y</td>\n",
       "      <td>23.50</td>\n",
       "    </tr>\n",
       "    <tr>\n",
       "      <th>3697</th>\n",
       "      <td>3697</td>\n",
       "      <td>82</td>\n",
       "      <td>oooo</td>\n",
       "      <td>NaN</td>\n",
       "      <td>oooo</td>\n",
       "      <td>www</td>\n",
       "      <td>221.0</td>\n",
       "      <td>vvvv</td>\n",
       "      <td>0.0</td>\n",
       "      <td>0.0</td>\n",
       "      <td>qqqq</td>\n",
       "      <td>12</td>\n",
       "      <td>4.500</td>\n",
       "      <td>t</td>\n",
       "      <td>t</td>\n",
       "      <td>wwww</td>\n",
       "      <td>t</td>\n",
       "      <td>y</td>\n",
       "      <td>34.17</td>\n",
       "    </tr>\n",
       "    <tr>\n",
       "      <th>3698</th>\n",
       "      <td>3698</td>\n",
       "      <td>13</td>\n",
       "      <td>oooo</td>\n",
       "      <td>NaN</td>\n",
       "      <td>oooo</td>\n",
       "      <td>www</td>\n",
       "      <td>3.0</td>\n",
       "      <td>yyy</td>\n",
       "      <td>100.0</td>\n",
       "      <td>1000000.0</td>\n",
       "      <td>qqqq</td>\n",
       "      <td>5</td>\n",
       "      <td>3.750</td>\n",
       "      <td>t</td>\n",
       "      <td>t</td>\n",
       "      <td>wwww</td>\n",
       "      <td>t</td>\n",
       "      <td>y</td>\n",
       "      <td>27.83</td>\n",
       "    </tr>\n",
       "    <tr>\n",
       "      <th>3699</th>\n",
       "      <td>3699</td>\n",
       "      <td>57</td>\n",
       "      <td>oooo</td>\n",
       "      <td>y</td>\n",
       "      <td>oooo</td>\n",
       "      <td>www</td>\n",
       "      <td>4000.0</td>\n",
       "      <td>ggg</td>\n",
       "      <td>0.0</td>\n",
       "      <td>0.0</td>\n",
       "      <td>qqqq</td>\n",
       "      <td>0</td>\n",
       "      <td>5.000</td>\n",
       "      <td>t</td>\n",
       "      <td>t</td>\n",
       "      <td>uuuu</td>\n",
       "      <td>f</td>\n",
       "      <td>y</td>\n",
       "      <td>36.75</td>\n",
       "    </tr>\n",
       "  </tbody>\n",
       "</table>\n",
       "<p>3700 rows × 19 columns</p>\n",
       "</div>"
      ],
      "text/plain": [
       "        ID  UKL  GJAH  ZIK   HUI   ERZ      CDx BJZHD  NKJUD        LPI  BJKG  \\\n",
       "0        0  160  oooo    x  oooo   www      5.0  vvvv   80.0   800000.0  qqqq   \n",
       "1        1  153   rrr  NaN   uuu  pppp      0.0   mmm  200.0  2000000.0  qqqq   \n",
       "2        2    5  oooo    x  oooo   www     19.0    hh   96.0   960000.0    hh   \n",
       "3        3    9  oooo  NaN  oooo   www    120.0   kkk    0.0        0.0   qqq   \n",
       "4        4   40  oooo    y  oooo   www      0.0   mmm  232.0  2320000.0  qqqq   \n",
       "...    ...  ...   ...  ...   ...   ...      ...   ...    ...        ...   ...   \n",
       "3695  3695   74  oooo    x  oooo   www  26726.0   sss    NaN        NaN  qqqq   \n",
       "3696  3696  179  oooo    x  oooo   www      0.0   sss  120.0  1200000.0  qqqq   \n",
       "3697  3697   82  oooo  NaN  oooo   www    221.0  vvvv    0.0        0.0  qqqq   \n",
       "3698  3698   13  oooo  NaN  oooo   www      3.0   yyy  100.0  1000000.0  qqqq   \n",
       "3699  3699   57  oooo    y  oooo   www   4000.0   ggg    0.0        0.0  qqqq   \n",
       "\n",
       "      POUG    TRE ZUB VOL   UIO VBNM Type    OIN  \n",
       "0        1  1.750   t   f  uuuu    t    n  17.92  \n",
       "1        0  0.290   f   f  wwww    f    n  16.92  \n",
       "2        1  0.000   f   f  wwww    t    n  31.25  \n",
       "3        0  0.335   f   f  uuuu    f    n  48.17  \n",
       "4        0  0.500   t   f  wwww    f    n  32.33  \n",
       "...    ...    ...  ..  ..   ...  ...  ...    ...  \n",
       "3695     5  2.710   f   t  uuuu    t    y  18.75  \n",
       "3696     5  8.500   t   t  uuuu    t    y  23.50  \n",
       "3697    12  4.500   t   t  wwww    t    y  34.17  \n",
       "3698     5  3.750   t   t  wwww    t    y  27.83  \n",
       "3699     0  5.000   t   t  uuuu    f    y  36.75  \n",
       "\n",
       "[3700 rows x 19 columns]"
      ]
     },
     "execution_count": 10,
     "metadata": {},
     "output_type": "execute_result"
    }
   ],
   "source": [
    "data"
   ]
  },
  {
   "cell_type": "markdown",
   "metadata": {},
   "source": [
    "### Let's examine each feature type"
   ]
  },
  {
   "cell_type": "code",
   "execution_count": 10,
   "metadata": {},
   "outputs": [
    {
     "data": {
      "image/png": "[encoded data removed]",
      "text/plain": [
       "<Figure size 640x480 with 1 Axes>"
      ]
     },
     "metadata": {},
     "output_type": "display_data"
    },
    {
     "name": "stdout",
     "output_type": "stream",
     "text": [
      "1\n",
      "179\n",
      "95.68837837837837\n",
      "99.0\n",
      "0    1\n",
      "Name: UKL, dtype: int64\n"
     ]
    }
   ],
   "source": [
    "plt.hist(list(data['UKL']), bins=50, edgecolor='black', alpha=0.7)\n",
    "plt.show()\n",
    "print(min(list(data['UKL'])))\n",
    "print(max(list(data['UKL'])))\n",
    "print(np.mean(list(data['UKL'])))\n",
    "print(data['UKL'].median())\n",
    "print(data['UKL'].mode())"
   ]
  },
  {
   "cell_type": "code",
   "execution_count": 11,
   "metadata": {},
   "outputs": [
    {
     "data": {
      "text/plain": [
       "Counter({'oooo': 3055, 'rrr': 549, nan: 64, 'ii': 32})"
      ]
     },
     "execution_count": 11,
     "metadata": {},
     "output_type": "execute_result"
    }
   ],
   "source": [
    "Counter(data[\"GJAH\"])"
   ]
  },
  {
   "cell_type": "code",
   "execution_count": 12,
   "metadata": {},
   "outputs": [
    {
     "data": {
      "text/plain": [
       "Counter({'x': 1023, nan: 2145, 'y': 532})"
      ]
     },
     "execution_count": 12,
     "metadata": {},
     "output_type": "execute_result"
    }
   ],
   "source": [
    "Counter(data[\"ZIK\"])"
   ]
  },
  {
   "cell_type": "markdown",
   "metadata": {},
   "source": [
    "ZIK feature seems not so useful, as the majority samples don't have any value for it (more than half).\n",
    "\n",
    "We can turn it into another feature where having a value or not is a feature itself."
   ]
  },
  {
   "cell_type": "code",
   "execution_count": 11,
   "metadata": {},
   "outputs": [],
   "source": [
    "data['ZIK_is_missing'] = data['ZIK'].isna()\n",
    "data = data.drop(columns=['ZIK'])"
   ]
  },
  {
   "cell_type": "markdown",
   "metadata": {},
   "source": [
    "I checked how different options reflect on accuracy/f-score:\n",
    "\n",
    "- Removing ZIK variable: \n",
    "    - Logistic regression: Accuracy: 0.9473, F1_score: 0.9400\n",
    "\n",
    "- Transforming ZIK into a new feature:\n",
    "    - Logistic regression: Accuracy: 0.9541, F1_score: 0.9498\n",
    "\n",
    "Based on that, I proceed with creating a new variable \"ZIK_is_missing\"."
   ]
  },
  {
   "cell_type": "code",
   "execution_count": 13,
   "metadata": {},
   "outputs": [
    {
     "data": {
      "text/plain": [
       "Counter({'oooo': 3430, 'uuu': 189, 'rrr': 81})"
      ]
     },
     "execution_count": 13,
     "metadata": {},
     "output_type": "execute_result"
    }
   ],
   "source": [
    "Counter(data[\"HUI\"])"
   ]
  },
  {
   "cell_type": "code",
   "execution_count": 14,
   "metadata": {},
   "outputs": [
    {
     "data": {
      "text/plain": [
       "Counter({'www': 3055, 'pppp': 549, nan: 64, 'nnn': 32})"
      ]
     },
     "execution_count": 14,
     "metadata": {},
     "output_type": "execute_result"
    }
   ],
   "source": [
    "Counter(data[\"ERZ\"])"
   ]
  },
  {
   "cell_type": "code",
   "execution_count": 14,
   "metadata": {},
   "outputs": [
    {
     "name": "stdout",
     "output_type": "stream",
     "text": [
      "0.0\n",
      "100000.0\n",
      "2246.705945945946\n",
      "113.0\n",
      "0    0.0\n",
      "Name: CDx, dtype: float64\n"
     ]
    },
    {
     "data": {
      "image/png": "[encoded data removed]",
      "text/plain": [
       "<Figure size 640x480 with 1 Axes>"
      ]
     },
     "metadata": {},
     "output_type": "display_data"
    }
   ],
   "source": [
    "print(min(list(data['CDx'])))\n",
    "print(max(list(data['CDx'])))\n",
    "print(np.mean(list(data['CDx'])))\n",
    "print(data['CDx'].median())\n",
    "print(data['CDx'].mode())\n",
    "\n",
    "\n",
    "plt.hist(list(data['CDx']), bins=50, edgecolor='black', alpha=0.7)\n",
    "plt.show()"
   ]
  },
  {
   "cell_type": "code",
   "execution_count": 15,
   "metadata": {},
   "outputs": [
    {
     "data": {
      "text/plain": [
       "Counter({'vvvv': 787,\n",
       "         'mmm': 170,\n",
       "         'hh': 136,\n",
       "         'kkk': 191,\n",
       "         'lll': 39,\n",
       "         'sss': 612,\n",
       "         'yyy': 457,\n",
       "         'ooo': 179,\n",
       "         'ee': 553,\n",
       "         'xxx': 33,\n",
       "         'zzz': 340,\n",
       "         'ggg': 137,\n",
       "         nan: 66})"
      ]
     },
     "execution_count": 15,
     "metadata": {},
     "output_type": "execute_result"
    }
   ],
   "source": [
    "Counter(data[\"BJZHD\"])"
   ]
  },
  {
   "cell_type": "code",
   "execution_count": 17,
   "metadata": {},
   "outputs": [
    {
     "name": "stdout",
     "output_type": "stream",
     "text": [
      "0.0\n",
      "1160.0\n",
      "nan\n",
      "120.0\n",
      "0    0.0\n",
      "Name: NKJUD, dtype: float64\n"
     ]
    },
    {
     "data": {
      "image/png": "[encoded data removed]",
      "text/plain": [
       "<Figure size 640x480 with 1 Axes>"
      ]
     },
     "metadata": {},
     "output_type": "display_data"
    }
   ],
   "source": [
    "print(min(list(data['NKJUD'])))\n",
    "print(max(list(data['NKJUD'])))\n",
    "print(np.mean(list(data['NKJUD'])))\n",
    "print(data['NKJUD'].median())\n",
    "print(data['NKJUD'].mode())\n",
    "\n",
    "plt.hist(list(data['NKJUD']), bins=50, edgecolor='black', alpha=0.7)\n",
    "plt.show()"
   ]
  },
  {
   "cell_type": "code",
   "execution_count": 28,
   "metadata": {},
   "outputs": [
    {
     "name": "stdout",
     "output_type": "stream",
     "text": [
      "0.0\n",
      "11600000.0\n",
      "nan\n",
      "1200000.0\n",
      "0    0.0\n",
      "Name: LPI, dtype: float64\n"
     ]
    },
    {
     "data": {
      "image/png": "[encoded data removed]",
      "text/plain": [
       "<Figure size 640x480 with 1 Axes>"
      ]
     },
     "metadata": {},
     "output_type": "display_data"
    }
   ],
   "source": [
    "print(min(list(data['LPI'])))\n",
    "print(max(list(data['LPI'])))\n",
    "print(np.mean(list(data['LPI'])))\n",
    "print(data['LPI'].median())\n",
    "print(data['LPI'].mode())\n",
    "\n",
    "plt.hist(list(data['LPI']), bins=50, edgecolor='black', alpha=0.7)\n",
    "plt.show()"
   ]
  },
  {
   "cell_type": "code",
   "execution_count": 29,
   "metadata": {},
   "outputs": [
    {
     "data": {
      "text/plain": [
       "Counter({'qqqq': 2015,\n",
       "         'hh': 154,\n",
       "         'qqq': 17,\n",
       "         'hhhh': 970,\n",
       "         'lll': 37,\n",
       "         'yy': 359,\n",
       "         'ppp': 33,\n",
       "         'bbb': 49,\n",
       "         nan: 66})"
      ]
     },
     "execution_count": 29,
     "metadata": {},
     "output_type": "execute_result"
    }
   ],
   "source": [
    "Counter(data[\"BJKG\"])"
   ]
  },
  {
   "cell_type": "code",
   "execution_count": 30,
   "metadata": {},
   "outputs": [
    {
     "data": {
      "image/png": "[encoded data removed]",
      "text/plain": [
       "<Figure size 640x480 with 1 Axes>"
      ]
     },
     "metadata": {},
     "output_type": "display_data"
    }
   ],
   "source": [
    "Counter(data[\"POUG\"])\n",
    "\n",
    "plt.hist(list(data['POUG']), bins=50, edgecolor='black', alpha=0.7)\n",
    "plt.show()"
   ]
  },
  {
   "cell_type": "code",
   "execution_count": 21,
   "metadata": {},
   "outputs": [
    {
     "name": "stdout",
     "output_type": "stream",
     "text": [
      "0.0\n",
      "28.5\n",
      "3.4394959459459455\n",
      "1.75\n",
      "0.0\n"
     ]
    },
    {
     "data": {
      "image/png": "[encoded data removed]",
      "text/plain": [
       "<Figure size 640x480 with 1 Axes>"
      ]
     },
     "metadata": {},
     "output_type": "display_data"
    }
   ],
   "source": [
    "print(min(list(data['TRE'])))\n",
    "print(max(list(data['TRE'])))\n",
    "print(np.mean(list(data['TRE'])))\n",
    "print(data['TRE'].median())\n",
    "print(data['TRE'].mode().iloc[0])\n",
    "\n",
    "plt.hist(list(data['TRE']), bins=50, edgecolor='black', alpha=0.7)\n",
    "plt.show()\n"
   ]
  },
  {
   "cell_type": "code",
   "execution_count": 22,
   "metadata": {},
   "outputs": [
    {
     "data": {
      "text/plain": [
       "Counter({'t': 1776, 'f': 1924})"
      ]
     },
     "execution_count": 22,
     "metadata": {},
     "output_type": "execute_result"
    }
   ],
   "source": [
    "Counter(data[\"ZUB\"])"
   ]
  },
  {
   "cell_type": "code",
   "execution_count": 23,
   "metadata": {},
   "outputs": [
    {
     "data": {
      "text/plain": [
       "Counter({'f': 529, 't': 3171})"
      ]
     },
     "execution_count": 23,
     "metadata": {},
     "output_type": "execute_result"
    }
   ],
   "source": [
    "Counter(data[\"VOL\"])"
   ]
  },
  {
   "cell_type": "code",
   "execution_count": 24,
   "metadata": {},
   "outputs": [
    {
     "data": {
      "text/plain": [
       "Counter({'uuuu': 1279, 'wwww': 2382, nan: 39})"
      ]
     },
     "execution_count": 24,
     "metadata": {},
     "output_type": "execute_result"
    }
   ],
   "source": [
    "Counter(data[\"UIO\"])"
   ]
  },
  {
   "cell_type": "code",
   "execution_count": 25,
   "metadata": {},
   "outputs": [
    {
     "data": {
      "text/plain": [
       "Counter({'t': 2239, 'f': 1461})"
      ]
     },
     "execution_count": 25,
     "metadata": {},
     "output_type": "execute_result"
    }
   ],
   "source": [
    "Counter(data[\"VBNM\"])"
   ]
  },
  {
   "cell_type": "code",
   "execution_count": 26,
   "metadata": {},
   "outputs": [
    {
     "name": "stdout",
     "output_type": "stream",
     "text": [
      "13.75\n",
      "80.25\n",
      "nan\n",
      "28.67\n",
      "0    23.25\n",
      "Name: OIN, dtype: float64\n"
     ]
    }
   ],
   "source": [
    "print(min(list(data['OIN'])))\n",
    "print(max(list(data['OIN'])))\n",
    "print(np.mean(list(data['OIN'])))\n",
    "print(data['OIN'].median())\n",
    "print(data['OIN'].mode())"
   ]
  },
  {
   "cell_type": "code",
   "execution_count": 27,
   "metadata": {},
   "outputs": [
    {
     "data": {
      "text/plain": [
       "Counter({'n': 276, 'y': 3424})"
      ]
     },
     "execution_count": 27,
     "metadata": {},
     "output_type": "execute_result"
    }
   ],
   "source": [
    "Counter(data[\"Type\"])"
   ]
  },
  {
   "cell_type": "markdown",
   "metadata": {},
   "source": [
    "##### Looking at our labels, we see that there is a major class imbalance. Even if we build a model that only predicts yes\", we will be right in almost 92% percent of cases.\n",
    "\n",
    "We will deal with this later by trying different strategis:\n",
    "\n",
    "- assigning higher penalty for mistakes on a smaller class\n",
    "- resampling"
   ]
  },
  {
   "cell_type": "code",
   "execution_count": 12,
   "metadata": {},
   "outputs": [
    {
     "data": {
      "text/plain": [
       "91.9392523364486"
      ]
     },
     "execution_count": 12,
     "metadata": {},
     "output_type": "execute_result"
    }
   ],
   "source": [
    "100 - 276/3424*100"
   ]
  },
  {
   "cell_type": "markdown",
   "metadata": {},
   "source": [
    "Now we impute missing values of the features, in this case by replacing them with the mode (most commonly met value)."
   ]
  },
  {
   "cell_type": "code",
   "execution_count": 14,
   "metadata": {},
   "outputs": [],
   "source": [
    "for index, row in data.iterrows():\n",
    "    for column_name, value in row.items():\n",
    "        if isinstance(value, (int, float)) and math.isnan(value):\n",
    "            try:\n",
    "                mode_value = data[column_name].mode().iloc[0]\n",
    "                data.at[index, column_name] = mode_value\n",
    "            except TypeError:\n",
    "                continue"
   ]
  },
  {
   "cell_type": "markdown",
   "metadata": {},
   "source": [
    "Check if numerical variables are correlated. Our predictors should be independent from each other as much as possible."
   ]
  },
  {
   "cell_type": "code",
   "execution_count": 15,
   "metadata": {},
   "outputs": [],
   "source": [
    "feature_floats = data.select_dtypes(include=['float64'])\n",
    "feature_names = list(feature_floats.columns)\n",
    "correlations = data[feature_names].corr()"
   ]
  },
  {
   "cell_type": "code",
   "execution_count": 16,
   "metadata": {},
   "outputs": [
    {
     "data": {
      "text/html": [
       "<div>\n",
       "<style scoped>\n",
       "    .dataframe tbody tr th:only-of-type {\n",
       "        vertical-align: middle;\n",
       "    }\n",
       "\n",
       "    .dataframe tbody tr th {\n",
       "        vertical-align: top;\n",
       "    }\n",
       "\n",
       "    .dataframe thead th {\n",
       "        text-align: right;\n",
       "    }\n",
       "</style>\n",
       "<table border=\"1\" class=\"dataframe\">\n",
       "  <thead>\n",
       "    <tr style=\"text-align: right;\">\n",
       "      <th></th>\n",
       "      <th>CDx</th>\n",
       "      <th>NKJUD</th>\n",
       "      <th>LPI</th>\n",
       "      <th>TRE</th>\n",
       "      <th>OIN</th>\n",
       "    </tr>\n",
       "  </thead>\n",
       "  <tbody>\n",
       "    <tr>\n",
       "      <th>CDx</th>\n",
       "      <td>1.000000</td>\n",
       "      <td>0.145232</td>\n",
       "      <td>0.145232</td>\n",
       "      <td>-0.004123</td>\n",
       "      <td>-0.007921</td>\n",
       "    </tr>\n",
       "    <tr>\n",
       "      <th>NKJUD</th>\n",
       "      <td>0.145232</td>\n",
       "      <td>1.000000</td>\n",
       "      <td>1.000000</td>\n",
       "      <td>-0.195718</td>\n",
       "      <td>-0.149966</td>\n",
       "    </tr>\n",
       "    <tr>\n",
       "      <th>LPI</th>\n",
       "      <td>0.145232</td>\n",
       "      <td>1.000000</td>\n",
       "      <td>1.000000</td>\n",
       "      <td>-0.195718</td>\n",
       "      <td>-0.149966</td>\n",
       "    </tr>\n",
       "    <tr>\n",
       "      <th>TRE</th>\n",
       "      <td>-0.004123</td>\n",
       "      <td>-0.195718</td>\n",
       "      <td>-0.195718</td>\n",
       "      <td>1.000000</td>\n",
       "      <td>0.511143</td>\n",
       "    </tr>\n",
       "    <tr>\n",
       "      <th>OIN</th>\n",
       "      <td>-0.007921</td>\n",
       "      <td>-0.149966</td>\n",
       "      <td>-0.149966</td>\n",
       "      <td>0.511143</td>\n",
       "      <td>1.000000</td>\n",
       "    </tr>\n",
       "  </tbody>\n",
       "</table>\n",
       "</div>"
      ],
      "text/plain": [
       "            CDx     NKJUD       LPI       TRE       OIN\n",
       "CDx    1.000000  0.145232  0.145232 -0.004123 -0.007921\n",
       "NKJUD  0.145232  1.000000  1.000000 -0.195718 -0.149966\n",
       "LPI    0.145232  1.000000  1.000000 -0.195718 -0.149966\n",
       "TRE   -0.004123 -0.195718 -0.195718  1.000000  0.511143\n",
       "OIN   -0.007921 -0.149966 -0.149966  0.511143  1.000000"
      ]
     },
     "execution_count": 16,
     "metadata": {},
     "output_type": "execute_result"
    }
   ],
   "source": [
    "correlations"
   ]
  },
  {
   "cell_type": "markdown",
   "metadata": {},
   "source": [
    "There doesn't seem to be a large correlation between numerical variables; only OIN and TRE have a correlation of around 0.5, which is not extremely high."
   ]
  },
  {
   "cell_type": "markdown",
   "metadata": {},
   "source": [
    "### Create dummy variables for categorical variables"
   ]
  },
  {
   "cell_type": "code",
   "execution_count": 17,
   "metadata": {},
   "outputs": [
    {
     "name": "stdout",
     "output_type": "stream",
     "text": [
      "ID                  int64\n",
      "UKL                 int64\n",
      "GJAH               object\n",
      "HUI                object\n",
      "ERZ                object\n",
      "CDx               float64\n",
      "BJZHD              object\n",
      "NKJUD             float64\n",
      "LPI               float64\n",
      "BJKG               object\n",
      "POUG                int64\n",
      "TRE               float64\n",
      "ZUB                object\n",
      "VOL                object\n",
      "UIO                object\n",
      "VBNM               object\n",
      "Type               object\n",
      "OIN               float64\n",
      "ZIK_is_missing       bool\n",
      "dtype: object\n"
     ]
    }
   ],
   "source": [
    "print(data.dtypes)"
   ]
  },
  {
   "cell_type": "code",
   "execution_count": 18,
   "metadata": {},
   "outputs": [],
   "source": [
    "features_object = data.select_dtypes(include=['object', \"bool\"])\n",
    "features_object_names = list(features_object.columns)"
   ]
  },
  {
   "cell_type": "code",
   "execution_count": 19,
   "metadata": {},
   "outputs": [],
   "source": [
    "data_with_dummies = pd.get_dummies(data, columns=features_object_names, drop_first=True) # drop_first=True to avoid multicollinearity"
   ]
  },
  {
   "cell_type": "markdown",
   "metadata": {},
   "source": [
    "Now we deal with outliers: if they are more than 2 standart deviations away from the mean, we cap them to the +-2SD range"
   ]
  },
  {
   "cell_type": "code",
   "execution_count": 20,
   "metadata": {},
   "outputs": [],
   "source": [
    "features_numerical = data.select_dtypes(include=['int64', 'float64'])\n",
    "features_numerical_names = list(features_numerical.columns)\n",
    "#drop the ID column\n",
    "features_numerical_names = features_numerical_names[1:]"
   ]
  },
  {
   "cell_type": "code",
   "execution_count": 21,
   "metadata": {},
   "outputs": [
    {
     "data": {
      "text/plain": [
       "['UKL', 'CDx', 'NKJUD', 'LPI', 'POUG', 'TRE', 'OIN']"
      ]
     },
     "execution_count": 21,
     "metadata": {},
     "output_type": "execute_result"
    }
   ],
   "source": [
    "features_numerical_names"
   ]
  },
  {
   "cell_type": "code",
   "execution_count": 22,
   "metadata": {},
   "outputs": [],
   "source": [
    "# now we apply Winsorization to each numerical feature\n",
    "for feature in features_numerical_names:\n",
    "    data_with_dummies[feature] = winsorize(data_with_dummies[feature], limits=[0.05, 0.05])"
   ]
  },
  {
   "cell_type": "markdown",
   "metadata": {},
   "source": [
    "Now we do data normalization. \n",
    "\n",
    "We use StandardScaler (Standardization) instead of MinMaxScaler (from 0 to 1) because if there are outliers, the majority of the values will be squeezed in a small range. Also we don't know from the data what are \"natural bounds\" of variables (like range of the pixel values, temperature, etc.)"
   ]
  },
  {
   "cell_type": "code",
   "execution_count": 24,
   "metadata": {},
   "outputs": [],
   "source": [
    "scaler = StandardScaler()\n",
    "data_with_dummies[features_numerical_names] = scaler.fit_transform(data_with_dummies[features_numerical_names])\n",
    "\n",
    "# to convert True/False into 0/1\n",
    "boolean_columns = data_with_dummies.select_dtypes(include='bool').columns\n",
    "data_with_dummies[boolean_columns] = data_with_dummies[boolean_columns].astype(int)"
   ]
  },
  {
   "cell_type": "markdown",
   "metadata": {},
   "source": [
    "### We run correlation analysis again"
   ]
  },
  {
   "cell_type": "code",
   "execution_count": 25,
   "metadata": {},
   "outputs": [],
   "source": [
    "correlation_matrix = data_with_dummies.corr()"
   ]
  },
  {
   "cell_type": "code",
   "execution_count": 26,
   "metadata": {},
   "outputs": [
    {
     "name": "stdout",
     "output_type": "stream",
     "text": [
      "Correlations greater than 0.7:\n",
      "           LPI  ERZ_pppp  ERZ_www   BJKG_hh\n",
      "NKJUD      1.0       NaN      NaN       NaN\n",
      "GJAH_oooo  NaN       NaN      1.0       NaN\n",
      "GJAH_rrr   NaN       1.0      NaN       NaN\n",
      "BJZHD_hh   NaN       NaN      NaN  0.822299\n"
     ]
    }
   ],
   "source": [
    "upper_triangle = correlation_matrix.where(np.triu(np.ones(correlation_matrix.shape), k=1).astype(bool))\n",
    "high_corr = upper_triangle[upper_triangle > 0.7]\n",
    "\n",
    "print(\"Correlations greater than 0.7:\")\n",
    "print(high_corr.dropna(how='all').dropna(axis=1, how='all'))"
   ]
  },
  {
   "cell_type": "markdown",
   "metadata": {},
   "source": [
    "##### We see perfect correlation between NKJUD & LPI, GJAH_rrr and ERZ_pppp, and GJAH_oooo and ERZ_www.\n",
    "\n",
    "We will remove one variable in each pair and see how it affects the model performance. \n",
    "\n",
    "We will use a function that will evaluate both set of predictors - with and without collinearity: **eval_run**"
   ]
  },
  {
   "cell_type": "code",
   "execution_count": 27,
   "metadata": {},
   "outputs": [],
   "source": [
    "data_dummies_dropped_collinear = data_with_dummies.drop(columns=['NKJUD', \"ERZ_pppp\", \"ERZ_www\"])"
   ]
  },
  {
   "cell_type": "markdown",
   "metadata": {},
   "source": [
    "Results of the analysis:\n",
    "\n",
    "- **Logistic Regression**: \n",
    "\n",
    "    - Preserve collinear vars: \n",
    "        - Accuracy: 0.9541, F1_score: 0.9498\n",
    "    - Remove collinear vars: \n",
    "        - Accuracy: 0.9527, F1_score: 0.9481\n",
    "\n",
    "- **Ridge Classification**\n",
    "    - Preserve collinear vars: \n",
    "        - Accuracy: 0.9432, F1_score: 0.9385\n",
    "    - Remove collinear vars: \n",
    "        - Accuracy: 0.9446, F1_score: 0.9397\n",
    "\n",
    "- **Random forest**\n",
    "    - Preserve collinear vars: \n",
    "        - Accuracy: **0.9757**, F1_score: **0.9741**\n",
    "    - Remove collinear vars: \n",
    "        - Accuracy: **0.9757**, F1_score: **0.9741**\n"
   ]
  },
  {
   "cell_type": "markdown",
   "metadata": {},
   "source": [
    "##### For some reason, a model with collinear variables performs better on a test set on logistic regression and Ridge classification. \n",
    "\n",
    "However, the less complex our model is, the more interpretable it is, and the performance loss isn't drastic.\n",
    "\n",
    "Based on the high performance of **Random forests**, I decided to proceed with them. Not only did they have a high accuracy, but also highest F1-score, and were able to detect the most instances of a minority class.\n",
    "\n",
    "They might also be good since they don't assume a linear relationship in our data."
   ]
  },
  {
   "cell_type": "code",
   "execution_count": 28,
   "metadata": {},
   "outputs": [
    {
     "name": "stdout",
     "output_type": "stream",
     "text": [
      "Accuracy: 0.9757\n",
      "F1_score: 0.9741\n"
     ]
    },
    {
     "data": {
      "image/png": "[encoded data removed]",
      "text/plain": [
       "<Figure size 800x600 with 1 Axes>"
      ]
     },
     "metadata": {},
     "output_type": "display_data"
    }
   ],
   "source": [
    "eval_run(data_with_dummies, model='random_forest')"
   ]
  },
  {
   "cell_type": "code",
   "execution_count": 29,
   "metadata": {},
   "outputs": [
    {
     "name": "stdout",
     "output_type": "stream",
     "text": [
      "Accuracy: 0.9757\n",
      "F1_score: 0.9741\n"
     ]
    },
    {
     "data": {
      "image/png": "[encoded data removed]",
      "text/plain": [
       "<Figure size 800x600 with 1 Axes>"
      ]
     },
     "metadata": {},
     "output_type": "display_data"
    }
   ],
   "source": [
    "eval_run(data_dummies_dropped_collinear, model='random_forest')"
   ]
  },
  {
   "cell_type": "markdown",
   "metadata": {},
   "source": [
    "### Now we will try to enhance the Random Forests performance"
   ]
  },
  {
   "cell_type": "markdown",
   "metadata": {},
   "source": [
    "#### 1. Handling class imbalance\n",
    "\n",
    "We will add a class_weight = 'balanced' parameter to increase punishment for less represented labels."
   ]
  },
  {
   "cell_type": "code",
   "execution_count": 28,
   "metadata": {},
   "outputs": [
    {
     "name": "stdout",
     "output_type": "stream",
     "text": [
      "Error weight to class 'no': 6.702898550724638\n",
      "Error weight to class 'yes': 0.540303738317757\n"
     ]
    }
   ],
   "source": [
    "# These are the weights class_weight = 'balanced' will provide.\n",
    "print(\"Error weight to class 'no':\", 3700/(2*276))\n",
    "print(\"Error weight to class 'yes':\", 3700/(2*3424))"
   ]
  },
  {
   "cell_type": "code",
   "execution_count": 29,
   "metadata": {},
   "outputs": [],
   "source": [
    "predictors = list(data_dummies_dropped_collinear.columns)\n",
    "predictors.remove(\"ID\")\n",
    "predictors.remove(\"Type_y\")\n",
    "\n",
    "X = data_dummies_dropped_collinear[predictors]\n",
    "y = data_dummies_dropped_collinear['Type_y']\n",
    "\n",
    "X_train, X_test, y_train, y_test = train_test_split(X, y, test_size=0.2, random_state=42)"
   ]
  },
  {
   "cell_type": "markdown",
   "metadata": {},
   "source": [
    "### 2. Find optimal hyperparameters using GridSearch\n",
    "\n",
    "- number of trees - optimal number of trees\n",
    "- depth - optimal depth to prevent overfitting\n",
    "- maximum number of features - maximum number of features to consider at each split"
   ]
  },
  {
   "cell_type": "markdown",
   "metadata": {},
   "source": [
    "### First let's optimize for accuracy"
   ]
  },
  {
   "cell_type": "code",
   "execution_count": 81,
   "metadata": {},
   "outputs": [
    {
     "name": "stdout",
     "output_type": "stream",
     "text": [
      "Best parameters: {'max_depth': 20, 'max_features': 6, 'n_estimators': 50}\n",
      "Best cross-validated score: 0.9881756756756757\n"
     ]
    }
   ],
   "source": [
    "param_grid = {\n",
    "    'max_depth': [3, 5, 7, 10, 15, 20, 25],\n",
    "    'n_estimators': [10, 50, 100, 200, 300, 400, 500],\n",
    "    'max_features': list(range(1, len(predictors), 5))\n",
    "}\n",
    "\n",
    "rf = RandomForestClassifier(class_weight='balanced', random_state=42)\n",
    "\n",
    "grid_search = GridSearchCV(estimator=rf, param_grid=param_grid, cv=5, scoring='accuracy', n_jobs=-1)\n",
    "\n",
    "grid_search.fit(X_train, y_train)\n",
    "\n",
    "best_params = grid_search.best_params_\n",
    "best_score = grid_search.best_score_\n",
    "\n",
    "print(f\"Best parameters: {best_params}\")\n",
    "print(f\"Best cross-validated score: {best_score}\")"
   ]
  },
  {
   "cell_type": "markdown",
   "metadata": {},
   "source": [
    "### Now let's optimize for F1-score"
   ]
  },
  {
   "cell_type": "code",
   "execution_count": 83,
   "metadata": {},
   "outputs": [
    {
     "name": "stdout",
     "output_type": "stream",
     "text": [
      "Best parameters f1: {'max_depth': 20, 'max_features': 6, 'n_estimators': 50}\n",
      "Best cross-validated score f1: 0.9936896231273664\n"
     ]
    }
   ],
   "source": [
    "param_grid = {\n",
    "    'max_depth': [3, 5, 7, 10, 15, 20, 25],\n",
    "    'n_estimators': [10, 50, 100, 200, 300, 400, 500],\n",
    "    'max_features': list(range(1, len(predictors), 5))\n",
    "}\n",
    "\n",
    "rf = RandomForestClassifier(class_weight='balanced', random_state=42)\n",
    "\n",
    "f1_scorer = make_scorer(f1_score)\n",
    "\n",
    "grid_search = GridSearchCV(estimator=rf, param_grid=param_grid, cv=5, scoring=f1_scorer, n_jobs=-1)\n",
    "\n",
    "grid_search.fit(X_train, y_train)\n",
    "\n",
    "best_params = grid_search.best_params_\n",
    "best_score = grid_search.best_score_\n",
    "\n",
    "print(f\"Best parameters f1: {best_params}\")\n",
    "print(f\"Best cross-validated score f1: {best_score}\")"
   ]
  },
  {
   "cell_type": "markdown",
   "metadata": {},
   "source": [
    "Best hyperparameters coincide for F1-score and accuracy: 'max_depth': 20, 'max_features': 6, 'n_estimators': 50.\n",
    "\n",
    "Let's build the model with these parameters and inspect the confusion matrix."
   ]
  },
  {
   "cell_type": "code",
   "execution_count": 31,
   "metadata": {},
   "outputs": [
    {
     "name": "stdout",
     "output_type": "stream",
     "text": [
      "Accuracy: 0.9770\n",
      "F1_score: 0.9756\n"
     ]
    },
    {
     "data": {
      "image/png": "[encoded data removed]",
      "text/plain": [
       "<Figure size 800x600 with 1 Axes>"
      ]
     },
     "metadata": {},
     "output_type": "display_data"
    }
   ],
   "source": [
    "rf = RandomForestClassifier(class_weight='balanced', n_estimators=50, max_depth=20, max_features=6, random_state=42)\n",
    "\n",
    "rf.fit(X_train, y_train)\n",
    "y_pred = rf.predict(X_test)\n",
    "\n",
    "accuracy = accuracy_score(y_test, y_pred)\n",
    "print(f'Accuracy: {accuracy:.4f}')\n",
    "\n",
    "f1 = f1_score(y_test, y_pred, average='weighted')\n",
    "print(f\"F1_score: {f1:.4f}\")\n",
    "\n",
    "conf_matrix = confusion_matrix(y_test, y_pred)\n",
    "plot_conf_matrix(conf_matrix, y_test, \"RandomForests\")"
   ]
  },
  {
   "cell_type": "markdown",
   "metadata": {},
   "source": [
    "### We were able to increase accuracy from 0.9757 to 0.9770, and f1-score from 0.9756 to 0.9741."
   ]
  },
  {
   "cell_type": "code",
   "execution_count": 32,
   "metadata": {},
   "outputs": [
    {
     "name": "stdout",
     "output_type": "stream",
     "text": [
      "    Feature  Importance\n",
      "29    VOL_t    0.348241\n",
      "4       TRE    0.097208\n",
      "0       UKL    0.069255\n",
      "3      POUG    0.068008\n",
      "1       CDx    0.067759\n",
      "2       LPI    0.056992\n",
      "5       OIN    0.053474\n",
      "31   VBNM_t    0.041375\n",
      "28    ZUB_t    0.013779\n",
      "8   HUI_rrr    0.013165\n"
     ]
    }
   ],
   "source": [
    "importances = rf.feature_importances_\n",
    "\n",
    "feature_names = X.columns  \n",
    "\n",
    "importance_df = pd.DataFrame({\n",
    "    'Feature': feature_names,\n",
    "    'Importance': importances\n",
    "})\n",
    "\n",
    "importance_df = importance_df.sort_values(by='Importance', ascending=False)\n",
    "\n",
    "print(importance_df[:10])"
   ]
  },
  {
   "cell_type": "markdown",
   "metadata": {},
   "source": [
    "The most influential feature seems to be  **VOL_t***. \n",
    "\n",
    "Let's try to build a model on top-10 features only, iteratively adding one by one."
   ]
  },
  {
   "cell_type": "markdown",
   "metadata": {},
   "source": [
    "Vol_t.\n",
    "Accuracy: **0.9027**\n",
    "F1_score: **0.9112**\n",
    "\n",
    "Vol_t, TRE.\n",
    "Accuracy: **0.9041**\n",
    "F1_score: **0.9107**\n",
    "\n",
    "Vol_t, TRE, UKL. \n",
    "Accuracy: **0.9730**\n",
    "F1_score: **0.9710**\n",
    "\n",
    "Vol_t, TRE, UKL, POUG.\n",
    "Accuracy: **0.9730**\n",
    "F1_score: **0.9710**\n",
    "\n",
    "Vol_t, TRE, UKL, POUG, CDx.\n",
    "Accuracy: **0.9689**\n",
    "F1_score: **0.9662**\n",
    "\n",
    "Vol_t, TRE, UKL, POUG, CDx, LPI.\n",
    "Accuracy: **0.9730**\n",
    "F1_score: **0.9710**\n",
    "\n",
    "Vol_t, TRE, UKL, POUG, CDx, LPI, OIN.\n",
    "Accuracy: **0.9743**\n",
    "F1_score: **0.9725**\n",
    "\n",
    "Vol_t, TRE, UKL, POUG, CDx, LPI, OIN, VBNM_t.\n",
    "Accuracy: **0.9730**\n",
    "F1_score: **0.9710**\n",
    "\n",
    "Vol_t, TRE, UKL, POUG, CDx, LPI, OIN, VBNM_t, ZUB_t.\n",
    "Accuracy: **0.9716**\n",
    "F1_score: **0.9694**\n",
    "\n",
    "Vol_t, TRE, UKL, POUG, CDx, LPI, OIN, VBNM_t, ZUB_t, HUI_rrr.\n",
    "Accuracy: **0.9757**\n",
    "F1_score: **0.9741**"
   ]
  },
  {
   "cell_type": "code",
   "execution_count": 33,
   "metadata": {},
   "outputs": [],
   "source": [
    "predictors = ['VOL_t', \"TRE\", \"UKL\", \"POUG\", \"CDx\", \"LPI\", \"OIN\", \"VBNM_t\", \"ZUB_t\", \"HUI_rrr\"]\n",
    "\n",
    "X = data_dummies_dropped_collinear[predictors]\n",
    "y = data_dummies_dropped_collinear['Type_y']\n",
    "\n",
    "X_train, X_test, y_train, y_test = train_test_split(X, y, test_size=0.2, random_state=42)"
   ]
  },
  {
   "cell_type": "code",
   "execution_count": 34,
   "metadata": {},
   "outputs": [
    {
     "name": "stdout",
     "output_type": "stream",
     "text": [
      "Accuracy: 0.9757\n",
      "F1_score: 0.9741\n"
     ]
    }
   ],
   "source": [
    "rf = RandomForestClassifier(class_weight='balanced', n_estimators=50, random_state=42)\n",
    "rf.fit(X_train, y_train)\n",
    "y_pred = rf.predict(X_test)\n",
    "accuracy = accuracy_score(y_test, y_pred)\n",
    "print(f'Accuracy: {accuracy:.4f}')\n",
    "f1 = f1_score(y_test, y_pred, average='weighted')\n",
    "print(f\"F1_score: {f1:.4f}\")\n",
    "conf_matrix = confusion_matrix(y_test, y_pred)"
   ]
  },
  {
   "cell_type": "markdown",
   "metadata": {},
   "source": [
    "#### Let's go even further and try resampling techniques to tackle the class imbalance with a new approach."
   ]
  },
  {
   "cell_type": "code",
   "execution_count": 60,
   "metadata": {},
   "outputs": [],
   "source": [
    "predictors = list(data_dummies_dropped_collinear.columns)\n",
    "predictors.remove(\"ID\")\n",
    "predictors.remove(\"Type_y\")\n",
    "X = data_dummies_dropped_collinear[predictors]\n",
    "y = data_dummies_dropped_collinear['Type_y']"
   ]
  },
  {
   "cell_type": "markdown",
   "metadata": {},
   "source": [
    "1. **SMOTE (Synthetic Minority Over-sampling Technique)** - here we create synthetic samples by interpolating between samples from the minority class."
   ]
  },
  {
   "cell_type": "code",
   "execution_count": 79,
   "metadata": {},
   "outputs": [
    {
     "name": "stdout",
     "output_type": "stream",
     "text": [
      "Accuracy: 0.9819819820\n",
      "F1_score: 0.9810224014\n"
     ]
    },
    {
     "data": {
      "image/png": "[encoded data removed]",
      "text/plain": [
       "<Figure size 800x600 with 1 Axes>"
      ]
     },
     "metadata": {},
     "output_type": "display_data"
    }
   ],
   "source": [
    "X_train, X_test, y_train, y_test = train_test_split(X, y, test_size=0.3, random_state=42)\n",
    "\n",
    "smote = SMOTE(random_state=42)\n",
    "X_resampled, y_resampled = smote.fit_resample(X_train, y_train)\n",
    "\n",
    "model_smote = RandomForestClassifier(random_state=42)\n",
    "model_smote.fit(X_resampled, y_resampled)\n",
    "\n",
    "y_pred = model_smote.predict(X_test)\n",
    "\n",
    "accuracy = accuracy_score(y_test, y_pred)\n",
    "print(f\"Accuracy: {accuracy:.10f}\")\n",
    "\n",
    "f1 = f1_score(y_test, y_pred, average='weighted')\n",
    "print(f\"F1_score: {f1:.10f}\")\n",
    "\n",
    "conf_matrix = confusion_matrix(y_test, y_pred)\n",
    "plot_conf_matrix(conf_matrix, y_test, \"RandomForest with SMOTE resampling\")"
   ]
  },
  {
   "cell_type": "markdown",
   "metadata": {},
   "source": [
    "2. **Random oversampling** - we oversample the minority class datapoints, duplicating some samples."
   ]
  },
  {
   "cell_type": "code",
   "execution_count": 66,
   "metadata": {},
   "outputs": [
    {
     "name": "stdout",
     "output_type": "stream",
     "text": [
      "Accuracy: 0.9801801802\n",
      "F1_score: 0.9790040715\n"
     ]
    },
    {
     "data": {
      "image/png": "[encoded data removed]",
      "text/plain": [
       "<Figure size 800x600 with 1 Axes>"
      ]
     },
     "metadata": {},
     "output_type": "display_data"
    }
   ],
   "source": [
    "ros = RandomOverSampler()\n",
    "X_resampled, y_resampled = ros.fit_resample(X_train, y_train)\n",
    "model = RandomForestClassifier()\n",
    "model.fit(X_resampled, y_resampled)\n",
    "\n",
    "y_pred = model.predict(X_test)\n",
    "\n",
    "accuracy = accuracy_score(y_test, y_pred)\n",
    "print(f\"Accuracy: {accuracy:.10f}\")\n",
    "\n",
    "f1 = f1_score(y_test, y_pred, average='weighted')\n",
    "print(f\"F1_score: {f1:.10f}\")\n",
    "\n",
    "conf_matrix = confusion_matrix(y_test, y_pred)\n",
    "plot_conf_matrix(conf_matrix, y_test, \"RandomForest with SMOTE resampling\")"
   ]
  },
  {
   "cell_type": "markdown",
   "metadata": {},
   "source": [
    "3. **Random undersampling** - here we undersample the majority class, taking less samples from it."
   ]
  },
  {
   "cell_type": "code",
   "execution_count": 68,
   "metadata": {},
   "outputs": [
    {
     "name": "stdout",
     "output_type": "stream",
     "text": [
      "Accuracy: 0.9261261261\n",
      "F1_score: 0.9321935078\n"
     ]
    },
    {
     "data": {
      "image/png": "[encoded data removed]",
      "text/plain": [
       "<Figure size 800x600 with 1 Axes>"
      ]
     },
     "metadata": {},
     "output_type": "display_data"
    }
   ],
   "source": [
    "rus = RandomUnderSampler()\n",
    "X_resampled, y_resampled = rus.fit_resample(X_train, y_train)\n",
    "model = RandomForestClassifier()\n",
    "model.fit(X_resampled, y_resampled)\n",
    "\n",
    "y_pred = model.predict(X_test)\n",
    "\n",
    "accuracy = accuracy_score(y_test, y_pred)\n",
    "print(f\"Accuracy: {accuracy:.10f}\")\n",
    "\n",
    "f1 = f1_score(y_test, y_pred, average='weighted')\n",
    "print(f\"F1_score: {f1:.10f}\")\n",
    "\n",
    "conf_matrix = confusion_matrix(y_test, y_pred)\n",
    "plot_conf_matrix(conf_matrix, y_test, \"RandomForest with SMOTE resampling\")"
   ]
  },
  {
   "cell_type": "markdown",
   "metadata": {},
   "source": [
    "## Summary"
   ]
  },
  {
   "cell_type": "markdown",
   "metadata": {},
   "source": [
    "In this dataset, there were multiple challenges, among them:\n",
    "\n",
    "- different types of variables (numerical, categorical)\n",
    "- noisy data (many features, some values missing)\n",
    "- notable class imbalance.\n",
    "\n",
    "\n",
    "To sum up, the best results were achieved using **RandomForest classifier** with synthetically creatied new samples for the minority class.\n",
    "\n",
    "We achieved an accuracy of **0.98198** and an F1_score of **0.98102**. This is an improved from the baseline RandomForest classifier that had an accuracy of **0.9757** and an F1_score of **0.9741**.\n",
    "\n",
    "If we knew the physical meaning of the variables, we could think more in depth about the **precision VS recall trade-off**, but as of now we prioritize **F1 score** since it takes into account both classes' performance. This is important in the case of class imbalance. \n"
   ]
  },
  {
   "cell_type": "markdown",
   "metadata": {},
   "source": [
    "Let's have a look at the important features of the best-performing model. We can observe that top important feature is still VOL_t."
   ]
  },
  {
   "cell_type": "code",
   "execution_count": 80,
   "metadata": {},
   "outputs": [
    {
     "name": "stdout",
     "output_type": "stream",
     "text": [
      "      Feature  Importance\n",
      "29      VOL_t    0.344908\n",
      "3        POUG    0.095135\n",
      "4         TRE    0.083369\n",
      "31     VBNM_t    0.079689\n",
      "1         CDx    0.070700\n",
      "0         UKL    0.053137\n",
      "2         LPI    0.051626\n",
      "5         OIN    0.039770\n",
      "28      ZUB_t    0.022161\n",
      "22  BJKG_hhhh    0.018951\n"
     ]
    }
   ],
   "source": [
    "importances = model_smote.feature_importances_\n",
    "feature_names = X.columns  # or list of feature names\n",
    "importance_df = pd.DataFrame({\n",
    "    'Feature': feature_names,\n",
    "    'Importance': importances\n",
    "})\n",
    "\n",
    "importance_df = importance_df.sort_values(by='Importance', ascending=False)\n",
    "print(importance_df[:10])"
   ]
  }
 ],
 "metadata": {
  "kernelspec": {
   "display_name": "Python 3",
   "language": "python",
   "name": "python3"
  },
  "language_info": {
   "codemirror_mode": {
    "name": "ipython",
    "version": 3
   },
   "file_extension": ".py",
   "mimetype": "text/x-python",
   "name": "python",
   "nbconvert_exporter": "python",
   "pygments_lexer": "ipython3",
   "version": "3.11.0"
  }
 },
 "nbformat": 4,
 "nbformat_minor": 2
}
