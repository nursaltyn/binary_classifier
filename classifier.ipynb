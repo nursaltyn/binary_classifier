{
 "cells": [
  {
   "cell_type": "code",
   "execution_count": 1,
   "metadata": {},
   "outputs": [],
   "source": [
    "import pandas as pd\n",
    "import numpy as np\n",
    "from collections import Counter\n",
    "import math"
   ]
  },
  {
   "cell_type": "code",
   "execution_count": 2,
   "metadata": {},
   "outputs": [],
   "source": [
    "table_1 = pd.read_csv(r\"C:\\Users\\Nursulu_1\\Downloads\\BMW_intern_GenAI_coding_task_orig\\BMW_intern_GenAI_coding_task\\data\\table_1.csv\", sep=';')\n",
    "table_2 = pd.read_csv(r\"C:\\Users\\Nursulu_1\\Downloads\\BMW_intern_GenAI_coding_task_orig\\BMW_intern_GenAI_coding_task\\data\\table_2.csv\", sep=';')"
   ]
  },
  {
   "cell_type": "markdown",
   "metadata": {},
   "source": [
    "Extract features by ID and map them to labels."
   ]
  },
  {
   "cell_type": "code",
   "execution_count": 3,
   "metadata": {},
   "outputs": [
    {
     "data": {
      "text/html": [
       "<div>\n",
       "<style scoped>\n",
       "    .dataframe tbody tr th:only-of-type {\n",
       "        vertical-align: middle;\n",
       "    }\n",
       "\n",
       "    .dataframe tbody tr th {\n",
       "        vertical-align: top;\n",
       "    }\n",
       "\n",
       "    .dataframe thead th {\n",
       "        text-align: right;\n",
       "    }\n",
       "</style>\n",
       "<table border=\"1\" class=\"dataframe\">\n",
       "  <thead>\n",
       "    <tr style=\"text-align: right;\">\n",
       "      <th></th>\n",
       "      <th>POUG</th>\n",
       "      <th>TRE</th>\n",
       "      <th>ID</th>\n",
       "      <th>ZUB</th>\n",
       "      <th>VOL</th>\n",
       "      <th>UIO</th>\n",
       "      <th>VBNM</th>\n",
       "      <th>Type</th>\n",
       "      <th>OIN</th>\n",
       "    </tr>\n",
       "  </thead>\n",
       "  <tbody>\n",
       "    <tr>\n",
       "      <th>0</th>\n",
       "      <td>1</td>\n",
       "      <td>1.750</td>\n",
       "      <td>0</td>\n",
       "      <td>t</td>\n",
       "      <td>f</td>\n",
       "      <td>uuuu</td>\n",
       "      <td>t</td>\n",
       "      <td>n</td>\n",
       "      <td>17.92</td>\n",
       "    </tr>\n",
       "    <tr>\n",
       "      <th>1</th>\n",
       "      <td>0</td>\n",
       "      <td>0.290</td>\n",
       "      <td>1</td>\n",
       "      <td>f</td>\n",
       "      <td>f</td>\n",
       "      <td>wwww</td>\n",
       "      <td>f</td>\n",
       "      <td>n</td>\n",
       "      <td>16.92</td>\n",
       "    </tr>\n",
       "    <tr>\n",
       "      <th>2</th>\n",
       "      <td>1</td>\n",
       "      <td>0.000</td>\n",
       "      <td>2</td>\n",
       "      <td>f</td>\n",
       "      <td>f</td>\n",
       "      <td>wwww</td>\n",
       "      <td>t</td>\n",
       "      <td>n</td>\n",
       "      <td>31.25</td>\n",
       "    </tr>\n",
       "    <tr>\n",
       "      <th>3</th>\n",
       "      <td>0</td>\n",
       "      <td>0.335</td>\n",
       "      <td>3</td>\n",
       "      <td>f</td>\n",
       "      <td>f</td>\n",
       "      <td>uuuu</td>\n",
       "      <td>f</td>\n",
       "      <td>n</td>\n",
       "      <td>48.17</td>\n",
       "    </tr>\n",
       "    <tr>\n",
       "      <th>4</th>\n",
       "      <td>0</td>\n",
       "      <td>0.500</td>\n",
       "      <td>4</td>\n",
       "      <td>t</td>\n",
       "      <td>f</td>\n",
       "      <td>wwww</td>\n",
       "      <td>f</td>\n",
       "      <td>n</td>\n",
       "      <td>32.33</td>\n",
       "    </tr>\n",
       "    <tr>\n",
       "      <th>...</th>\n",
       "      <td>...</td>\n",
       "      <td>...</td>\n",
       "      <td>...</td>\n",
       "      <td>...</td>\n",
       "      <td>...</td>\n",
       "      <td>...</td>\n",
       "      <td>...</td>\n",
       "      <td>...</td>\n",
       "      <td>...</td>\n",
       "    </tr>\n",
       "    <tr>\n",
       "      <th>4065</th>\n",
       "      <td>14</td>\n",
       "      <td>5.500</td>\n",
       "      <td>3314</td>\n",
       "      <td>f</td>\n",
       "      <td>t</td>\n",
       "      <td>uuuu</td>\n",
       "      <td>t</td>\n",
       "      <td>y</td>\n",
       "      <td>52.83</td>\n",
       "    </tr>\n",
       "    <tr>\n",
       "      <th>4066</th>\n",
       "      <td>7</td>\n",
       "      <td>0.750</td>\n",
       "      <td>999</td>\n",
       "      <td>f</td>\n",
       "      <td>t</td>\n",
       "      <td>uuuu</td>\n",
       "      <td>t</td>\n",
       "      <td>y</td>\n",
       "      <td>19.17</td>\n",
       "    </tr>\n",
       "    <tr>\n",
       "      <th>4067</th>\n",
       "      <td>0</td>\n",
       "      <td>5.000</td>\n",
       "      <td>2415</td>\n",
       "      <td>t</td>\n",
       "      <td>t</td>\n",
       "      <td>uuuu</td>\n",
       "      <td>f</td>\n",
       "      <td>y</td>\n",
       "      <td>36.75</td>\n",
       "    </tr>\n",
       "    <tr>\n",
       "      <th>4068</th>\n",
       "      <td>0</td>\n",
       "      <td>0.835</td>\n",
       "      <td>511</td>\n",
       "      <td>f</td>\n",
       "      <td>t</td>\n",
       "      <td>wwww</td>\n",
       "      <td>f</td>\n",
       "      <td>y</td>\n",
       "      <td>23.25</td>\n",
       "    </tr>\n",
       "    <tr>\n",
       "      <th>4069</th>\n",
       "      <td>0</td>\n",
       "      <td>0.665</td>\n",
       "      <td>2684</td>\n",
       "      <td>f</td>\n",
       "      <td>t</td>\n",
       "      <td>wwww</td>\n",
       "      <td>f</td>\n",
       "      <td>y</td>\n",
       "      <td>22.08</td>\n",
       "    </tr>\n",
       "  </tbody>\n",
       "</table>\n",
       "<p>4070 rows × 9 columns</p>\n",
       "</div>"
      ],
      "text/plain": [
       "      POUG    TRE    ID ZUB VOL   UIO VBNM Type    OIN\n",
       "0        1  1.750     0   t   f  uuuu    t    n  17.92\n",
       "1        0  0.290     1   f   f  wwww    f    n  16.92\n",
       "2        1  0.000     2   f   f  wwww    t    n  31.25\n",
       "3        0  0.335     3   f   f  uuuu    f    n  48.17\n",
       "4        0  0.500     4   t   f  wwww    f    n  32.33\n",
       "...    ...    ...   ...  ..  ..   ...  ...  ...    ...\n",
       "4065    14  5.500  3314   f   t  uuuu    t    y  52.83\n",
       "4066     7  0.750   999   f   t  uuuu    t    y  19.17\n",
       "4067     0  5.000  2415   t   t  uuuu    f    y  36.75\n",
       "4068     0  0.835   511   f   t  wwww    f    y  23.25\n",
       "4069     0  0.665  2684   f   t  wwww    f    y  22.08\n",
       "\n",
       "[4070 rows x 9 columns]"
      ]
     },
     "execution_count": 3,
     "metadata": {},
     "output_type": "execute_result"
    }
   ],
   "source": [
    "table_2"
   ]
  },
  {
   "cell_type": "code",
   "execution_count": 4,
   "metadata": {},
   "outputs": [],
   "source": [
    "id_order = list(table_2['ID'])"
   ]
  },
  {
   "cell_type": "code",
   "execution_count": 5,
   "metadata": {},
   "outputs": [
    {
     "data": {
      "text/plain": [
       "4070"
      ]
     },
     "execution_count": 5,
     "metadata": {},
     "output_type": "execute_result"
    }
   ],
   "source": [
    "len(id_order)"
   ]
  },
  {
   "cell_type": "code",
   "execution_count": 6,
   "metadata": {},
   "outputs": [
    {
     "data": {
      "text/plain": [
       "3700"
      ]
     },
     "execution_count": 6,
     "metadata": {},
     "output_type": "execute_result"
    }
   ],
   "source": [
    "len(set(id_order))"
   ]
  },
  {
   "cell_type": "code",
   "execution_count": 7,
   "metadata": {},
   "outputs": [
    {
     "data": {
      "text/html": [
       "<div>\n",
       "<style scoped>\n",
       "    .dataframe tbody tr th:only-of-type {\n",
       "        vertical-align: middle;\n",
       "    }\n",
       "\n",
       "    .dataframe tbody tr th {\n",
       "        vertical-align: top;\n",
       "    }\n",
       "\n",
       "    .dataframe thead th {\n",
       "        text-align: right;\n",
       "    }\n",
       "</style>\n",
       "<table border=\"1\" class=\"dataframe\">\n",
       "  <thead>\n",
       "    <tr style=\"text-align: right;\">\n",
       "      <th></th>\n",
       "      <th>POUG</th>\n",
       "      <th>TRE</th>\n",
       "      <th>ID</th>\n",
       "      <th>ZUB</th>\n",
       "      <th>VOL</th>\n",
       "      <th>UIO</th>\n",
       "      <th>VBNM</th>\n",
       "      <th>Type</th>\n",
       "      <th>OIN</th>\n",
       "    </tr>\n",
       "  </thead>\n",
       "  <tbody>\n",
       "    <tr>\n",
       "      <th>305</th>\n",
       "      <td>0</td>\n",
       "      <td>3.25</td>\n",
       "      <td>305</td>\n",
       "      <td>f</td>\n",
       "      <td>f</td>\n",
       "      <td>uuuu</td>\n",
       "      <td>f</td>\n",
       "      <td>n</td>\n",
       "      <td>22.25</td>\n",
       "    </tr>\n",
       "    <tr>\n",
       "      <th>3784</th>\n",
       "      <td>0</td>\n",
       "      <td>3.25</td>\n",
       "      <td>305</td>\n",
       "      <td>f</td>\n",
       "      <td>f</td>\n",
       "      <td>uuuu</td>\n",
       "      <td>f</td>\n",
       "      <td>n</td>\n",
       "      <td>22.25</td>\n",
       "    </tr>\n",
       "    <tr>\n",
       "      <th>3827</th>\n",
       "      <td>0</td>\n",
       "      <td>3.25</td>\n",
       "      <td>305</td>\n",
       "      <td>f</td>\n",
       "      <td>f</td>\n",
       "      <td>uuuu</td>\n",
       "      <td>f</td>\n",
       "      <td>n</td>\n",
       "      <td>22.25</td>\n",
       "    </tr>\n",
       "    <tr>\n",
       "      <th>4044</th>\n",
       "      <td>0</td>\n",
       "      <td>3.25</td>\n",
       "      <td>305</td>\n",
       "      <td>f</td>\n",
       "      <td>f</td>\n",
       "      <td>uuuu</td>\n",
       "      <td>f</td>\n",
       "      <td>n</td>\n",
       "      <td>22.25</td>\n",
       "    </tr>\n",
       "  </tbody>\n",
       "</table>\n",
       "</div>"
      ],
      "text/plain": [
       "      POUG   TRE   ID ZUB VOL   UIO VBNM Type    OIN\n",
       "305      0  3.25  305   f   f  uuuu    f    n  22.25\n",
       "3784     0  3.25  305   f   f  uuuu    f    n  22.25\n",
       "3827     0  3.25  305   f   f  uuuu    f    n  22.25\n",
       "4044     0  3.25  305   f   f  uuuu    f    n  22.25"
      ]
     },
     "execution_count": 7,
     "metadata": {},
     "output_type": "execute_result"
    }
   ],
   "source": [
    "table_2[table_2['ID']==305]"
   ]
  },
  {
   "cell_type": "markdown",
   "metadata": {},
   "source": [
    "Remove duplicates"
   ]
  },
  {
   "cell_type": "code",
   "execution_count": 8,
   "metadata": {},
   "outputs": [],
   "source": [
    "table_2 = table_2.drop_duplicates(subset=['ID'])\n",
    "table_1 = table_1.drop_duplicates(subset=['ID'])"
   ]
  },
  {
   "cell_type": "code",
   "execution_count": 9,
   "metadata": {},
   "outputs": [
    {
     "data": {
      "text/plain": [
       "3700"
      ]
     },
     "execution_count": 9,
     "metadata": {},
     "output_type": "execute_result"
    }
   ],
   "source": [
    "len(table_2)"
   ]
  },
  {
   "cell_type": "code",
   "execution_count": 10,
   "metadata": {},
   "outputs": [],
   "source": [
    "id_order = list(table_2['ID'])"
   ]
  },
  {
   "cell_type": "code",
   "execution_count": 11,
   "metadata": {},
   "outputs": [],
   "source": [
    "table_1['ID'] = pd.Categorical(table_1['ID'], categories=id_order, ordered=False)"
   ]
  },
  {
   "cell_type": "code",
   "execution_count": 12,
   "metadata": {},
   "outputs": [
    {
     "data": {
      "text/html": [
       "<div>\n",
       "<style scoped>\n",
       "    .dataframe tbody tr th:only-of-type {\n",
       "        vertical-align: middle;\n",
       "    }\n",
       "\n",
       "    .dataframe tbody tr th {\n",
       "        vertical-align: top;\n",
       "    }\n",
       "\n",
       "    .dataframe thead th {\n",
       "        text-align: right;\n",
       "    }\n",
       "</style>\n",
       "<table border=\"1\" class=\"dataframe\">\n",
       "  <thead>\n",
       "    <tr style=\"text-align: right;\">\n",
       "      <th></th>\n",
       "      <th>POUG</th>\n",
       "      <th>TRE</th>\n",
       "      <th>ID</th>\n",
       "      <th>ZUB</th>\n",
       "      <th>VOL</th>\n",
       "      <th>UIO</th>\n",
       "      <th>VBNM</th>\n",
       "      <th>Type</th>\n",
       "      <th>OIN</th>\n",
       "    </tr>\n",
       "  </thead>\n",
       "  <tbody>\n",
       "    <tr>\n",
       "      <th>0</th>\n",
       "      <td>1</td>\n",
       "      <td>1.750</td>\n",
       "      <td>0</td>\n",
       "      <td>t</td>\n",
       "      <td>f</td>\n",
       "      <td>uuuu</td>\n",
       "      <td>t</td>\n",
       "      <td>n</td>\n",
       "      <td>17.92</td>\n",
       "    </tr>\n",
       "    <tr>\n",
       "      <th>1</th>\n",
       "      <td>0</td>\n",
       "      <td>0.290</td>\n",
       "      <td>1</td>\n",
       "      <td>f</td>\n",
       "      <td>f</td>\n",
       "      <td>wwww</td>\n",
       "      <td>f</td>\n",
       "      <td>n</td>\n",
       "      <td>16.92</td>\n",
       "    </tr>\n",
       "    <tr>\n",
       "      <th>2</th>\n",
       "      <td>1</td>\n",
       "      <td>0.000</td>\n",
       "      <td>2</td>\n",
       "      <td>f</td>\n",
       "      <td>f</td>\n",
       "      <td>wwww</td>\n",
       "      <td>t</td>\n",
       "      <td>n</td>\n",
       "      <td>31.25</td>\n",
       "    </tr>\n",
       "    <tr>\n",
       "      <th>3</th>\n",
       "      <td>0</td>\n",
       "      <td>0.335</td>\n",
       "      <td>3</td>\n",
       "      <td>f</td>\n",
       "      <td>f</td>\n",
       "      <td>uuuu</td>\n",
       "      <td>f</td>\n",
       "      <td>n</td>\n",
       "      <td>48.17</td>\n",
       "    </tr>\n",
       "    <tr>\n",
       "      <th>4</th>\n",
       "      <td>0</td>\n",
       "      <td>0.500</td>\n",
       "      <td>4</td>\n",
       "      <td>t</td>\n",
       "      <td>f</td>\n",
       "      <td>wwww</td>\n",
       "      <td>f</td>\n",
       "      <td>n</td>\n",
       "      <td>32.33</td>\n",
       "    </tr>\n",
       "    <tr>\n",
       "      <th>...</th>\n",
       "      <td>...</td>\n",
       "      <td>...</td>\n",
       "      <td>...</td>\n",
       "      <td>...</td>\n",
       "      <td>...</td>\n",
       "      <td>...</td>\n",
       "      <td>...</td>\n",
       "      <td>...</td>\n",
       "      <td>...</td>\n",
       "    </tr>\n",
       "    <tr>\n",
       "      <th>3695</th>\n",
       "      <td>5</td>\n",
       "      <td>2.710</td>\n",
       "      <td>3695</td>\n",
       "      <td>f</td>\n",
       "      <td>t</td>\n",
       "      <td>uuuu</td>\n",
       "      <td>t</td>\n",
       "      <td>y</td>\n",
       "      <td>18.75</td>\n",
       "    </tr>\n",
       "    <tr>\n",
       "      <th>3696</th>\n",
       "      <td>5</td>\n",
       "      <td>8.500</td>\n",
       "      <td>3696</td>\n",
       "      <td>t</td>\n",
       "      <td>t</td>\n",
       "      <td>uuuu</td>\n",
       "      <td>t</td>\n",
       "      <td>y</td>\n",
       "      <td>23.50</td>\n",
       "    </tr>\n",
       "    <tr>\n",
       "      <th>3697</th>\n",
       "      <td>12</td>\n",
       "      <td>4.500</td>\n",
       "      <td>3697</td>\n",
       "      <td>t</td>\n",
       "      <td>t</td>\n",
       "      <td>wwww</td>\n",
       "      <td>t</td>\n",
       "      <td>y</td>\n",
       "      <td>34.17</td>\n",
       "    </tr>\n",
       "    <tr>\n",
       "      <th>3698</th>\n",
       "      <td>5</td>\n",
       "      <td>3.750</td>\n",
       "      <td>3698</td>\n",
       "      <td>t</td>\n",
       "      <td>t</td>\n",
       "      <td>wwww</td>\n",
       "      <td>t</td>\n",
       "      <td>y</td>\n",
       "      <td>27.83</td>\n",
       "    </tr>\n",
       "    <tr>\n",
       "      <th>3699</th>\n",
       "      <td>0</td>\n",
       "      <td>5.000</td>\n",
       "      <td>3699</td>\n",
       "      <td>t</td>\n",
       "      <td>t</td>\n",
       "      <td>uuuu</td>\n",
       "      <td>f</td>\n",
       "      <td>y</td>\n",
       "      <td>36.75</td>\n",
       "    </tr>\n",
       "  </tbody>\n",
       "</table>\n",
       "<p>3700 rows × 9 columns</p>\n",
       "</div>"
      ],
      "text/plain": [
       "      POUG    TRE    ID ZUB VOL   UIO VBNM Type    OIN\n",
       "0        1  1.750     0   t   f  uuuu    t    n  17.92\n",
       "1        0  0.290     1   f   f  wwww    f    n  16.92\n",
       "2        1  0.000     2   f   f  wwww    t    n  31.25\n",
       "3        0  0.335     3   f   f  uuuu    f    n  48.17\n",
       "4        0  0.500     4   t   f  wwww    f    n  32.33\n",
       "...    ...    ...   ...  ..  ..   ...  ...  ...    ...\n",
       "3695     5  2.710  3695   f   t  uuuu    t    y  18.75\n",
       "3696     5  8.500  3696   t   t  uuuu    t    y  23.50\n",
       "3697    12  4.500  3697   t   t  wwww    t    y  34.17\n",
       "3698     5  3.750  3698   t   t  wwww    t    y  27.83\n",
       "3699     0  5.000  3699   t   t  uuuu    f    y  36.75\n",
       "\n",
       "[3700 rows x 9 columns]"
      ]
     },
     "execution_count": 12,
     "metadata": {},
     "output_type": "execute_result"
    }
   ],
   "source": [
    "table_2"
   ]
  },
  {
   "cell_type": "code",
   "execution_count": 13,
   "metadata": {},
   "outputs": [
    {
     "data": {
      "text/html": [
       "<div>\n",
       "<style scoped>\n",
       "    .dataframe tbody tr th:only-of-type {\n",
       "        vertical-align: middle;\n",
       "    }\n",
       "\n",
       "    .dataframe tbody tr th {\n",
       "        vertical-align: top;\n",
       "    }\n",
       "\n",
       "    .dataframe thead th {\n",
       "        text-align: right;\n",
       "    }\n",
       "</style>\n",
       "<table border=\"1\" class=\"dataframe\">\n",
       "  <thead>\n",
       "    <tr style=\"text-align: right;\">\n",
       "      <th></th>\n",
       "      <th>ID</th>\n",
       "      <th>UKL</th>\n",
       "      <th>GJAH</th>\n",
       "      <th>ZIK</th>\n",
       "      <th>HUI</th>\n",
       "      <th>ERZ</th>\n",
       "      <th>CDx</th>\n",
       "      <th>BJZHD</th>\n",
       "      <th>NKJUD</th>\n",
       "      <th>LPI</th>\n",
       "      <th>BJKG</th>\n",
       "    </tr>\n",
       "  </thead>\n",
       "  <tbody>\n",
       "    <tr>\n",
       "      <th>0</th>\n",
       "      <td>0</td>\n",
       "      <td>160</td>\n",
       "      <td>oooo</td>\n",
       "      <td>x</td>\n",
       "      <td>oooo</td>\n",
       "      <td>www</td>\n",
       "      <td>5.0</td>\n",
       "      <td>vvvv</td>\n",
       "      <td>80.0</td>\n",
       "      <td>800000.0</td>\n",
       "      <td>qqqq</td>\n",
       "    </tr>\n",
       "    <tr>\n",
       "      <th>1</th>\n",
       "      <td>1</td>\n",
       "      <td>153</td>\n",
       "      <td>rrr</td>\n",
       "      <td>NaN</td>\n",
       "      <td>uuu</td>\n",
       "      <td>pppp</td>\n",
       "      <td>0.0</td>\n",
       "      <td>mmm</td>\n",
       "      <td>200.0</td>\n",
       "      <td>2000000.0</td>\n",
       "      <td>qqqq</td>\n",
       "    </tr>\n",
       "    <tr>\n",
       "      <th>2</th>\n",
       "      <td>2</td>\n",
       "      <td>5</td>\n",
       "      <td>oooo</td>\n",
       "      <td>x</td>\n",
       "      <td>oooo</td>\n",
       "      <td>www</td>\n",
       "      <td>19.0</td>\n",
       "      <td>hh</td>\n",
       "      <td>96.0</td>\n",
       "      <td>960000.0</td>\n",
       "      <td>hh</td>\n",
       "    </tr>\n",
       "    <tr>\n",
       "      <th>3</th>\n",
       "      <td>3</td>\n",
       "      <td>9</td>\n",
       "      <td>oooo</td>\n",
       "      <td>NaN</td>\n",
       "      <td>oooo</td>\n",
       "      <td>www</td>\n",
       "      <td>120.0</td>\n",
       "      <td>kkk</td>\n",
       "      <td>0.0</td>\n",
       "      <td>0.0</td>\n",
       "      <td>qqq</td>\n",
       "    </tr>\n",
       "    <tr>\n",
       "      <th>4</th>\n",
       "      <td>4</td>\n",
       "      <td>40</td>\n",
       "      <td>oooo</td>\n",
       "      <td>y</td>\n",
       "      <td>oooo</td>\n",
       "      <td>www</td>\n",
       "      <td>0.0</td>\n",
       "      <td>mmm</td>\n",
       "      <td>232.0</td>\n",
       "      <td>2320000.0</td>\n",
       "      <td>qqqq</td>\n",
       "    </tr>\n",
       "    <tr>\n",
       "      <th>...</th>\n",
       "      <td>...</td>\n",
       "      <td>...</td>\n",
       "      <td>...</td>\n",
       "      <td>...</td>\n",
       "      <td>...</td>\n",
       "      <td>...</td>\n",
       "      <td>...</td>\n",
       "      <td>...</td>\n",
       "      <td>...</td>\n",
       "      <td>...</td>\n",
       "      <td>...</td>\n",
       "    </tr>\n",
       "    <tr>\n",
       "      <th>3695</th>\n",
       "      <td>3695</td>\n",
       "      <td>74</td>\n",
       "      <td>oooo</td>\n",
       "      <td>x</td>\n",
       "      <td>oooo</td>\n",
       "      <td>www</td>\n",
       "      <td>26726.0</td>\n",
       "      <td>sss</td>\n",
       "      <td>NaN</td>\n",
       "      <td>NaN</td>\n",
       "      <td>qqqq</td>\n",
       "    </tr>\n",
       "    <tr>\n",
       "      <th>3696</th>\n",
       "      <td>3696</td>\n",
       "      <td>179</td>\n",
       "      <td>oooo</td>\n",
       "      <td>x</td>\n",
       "      <td>oooo</td>\n",
       "      <td>www</td>\n",
       "      <td>0.0</td>\n",
       "      <td>sss</td>\n",
       "      <td>120.0</td>\n",
       "      <td>1200000.0</td>\n",
       "      <td>qqqq</td>\n",
       "    </tr>\n",
       "    <tr>\n",
       "      <th>3697</th>\n",
       "      <td>3697</td>\n",
       "      <td>82</td>\n",
       "      <td>oooo</td>\n",
       "      <td>NaN</td>\n",
       "      <td>oooo</td>\n",
       "      <td>www</td>\n",
       "      <td>221.0</td>\n",
       "      <td>vvvv</td>\n",
       "      <td>0.0</td>\n",
       "      <td>0.0</td>\n",
       "      <td>qqqq</td>\n",
       "    </tr>\n",
       "    <tr>\n",
       "      <th>3698</th>\n",
       "      <td>3698</td>\n",
       "      <td>13</td>\n",
       "      <td>oooo</td>\n",
       "      <td>NaN</td>\n",
       "      <td>oooo</td>\n",
       "      <td>www</td>\n",
       "      <td>3.0</td>\n",
       "      <td>yyy</td>\n",
       "      <td>100.0</td>\n",
       "      <td>1000000.0</td>\n",
       "      <td>qqqq</td>\n",
       "    </tr>\n",
       "    <tr>\n",
       "      <th>3699</th>\n",
       "      <td>3699</td>\n",
       "      <td>57</td>\n",
       "      <td>oooo</td>\n",
       "      <td>y</td>\n",
       "      <td>oooo</td>\n",
       "      <td>www</td>\n",
       "      <td>4000.0</td>\n",
       "      <td>ggg</td>\n",
       "      <td>0.0</td>\n",
       "      <td>0.0</td>\n",
       "      <td>qqqq</td>\n",
       "    </tr>\n",
       "  </tbody>\n",
       "</table>\n",
       "<p>3700 rows × 11 columns</p>\n",
       "</div>"
      ],
      "text/plain": [
       "        ID  UKL  GJAH  ZIK   HUI   ERZ      CDx BJZHD  NKJUD        LPI  BJKG\n",
       "0        0  160  oooo    x  oooo   www      5.0  vvvv   80.0   800000.0  qqqq\n",
       "1        1  153   rrr  NaN   uuu  pppp      0.0   mmm  200.0  2000000.0  qqqq\n",
       "2        2    5  oooo    x  oooo   www     19.0    hh   96.0   960000.0    hh\n",
       "3        3    9  oooo  NaN  oooo   www    120.0   kkk    0.0        0.0   qqq\n",
       "4        4   40  oooo    y  oooo   www      0.0   mmm  232.0  2320000.0  qqqq\n",
       "...    ...  ...   ...  ...   ...   ...      ...   ...    ...        ...   ...\n",
       "3695  3695   74  oooo    x  oooo   www  26726.0   sss    NaN        NaN  qqqq\n",
       "3696  3696  179  oooo    x  oooo   www      0.0   sss  120.0  1200000.0  qqqq\n",
       "3697  3697   82  oooo  NaN  oooo   www    221.0  vvvv    0.0        0.0  qqqq\n",
       "3698  3698   13  oooo  NaN  oooo   www      3.0   yyy  100.0  1000000.0  qqqq\n",
       "3699  3699   57  oooo    y  oooo   www   4000.0   ggg    0.0        0.0  qqqq\n",
       "\n",
       "[3700 rows x 11 columns]"
      ]
     },
     "execution_count": 13,
     "metadata": {},
     "output_type": "execute_result"
    }
   ],
   "source": [
    "table_1"
   ]
  },
  {
   "cell_type": "markdown",
   "metadata": {},
   "source": [
    "Merge tables"
   ]
  },
  {
   "cell_type": "code",
   "execution_count": 14,
   "metadata": {},
   "outputs": [],
   "source": [
    "data = pd.merge(table_1, table_2, on='ID', how='inner')"
   ]
  },
  {
   "cell_type": "code",
   "execution_count": 15,
   "metadata": {},
   "outputs": [
    {
     "data": {
      "text/html": [
       "<div>\n",
       "<style scoped>\n",
       "    .dataframe tbody tr th:only-of-type {\n",
       "        vertical-align: middle;\n",
       "    }\n",
       "\n",
       "    .dataframe tbody tr th {\n",
       "        vertical-align: top;\n",
       "    }\n",
       "\n",
       "    .dataframe thead th {\n",
       "        text-align: right;\n",
       "    }\n",
       "</style>\n",
       "<table border=\"1\" class=\"dataframe\">\n",
       "  <thead>\n",
       "    <tr style=\"text-align: right;\">\n",
       "      <th></th>\n",
       "      <th>ID</th>\n",
       "      <th>UKL</th>\n",
       "      <th>GJAH</th>\n",
       "      <th>ZIK</th>\n",
       "      <th>HUI</th>\n",
       "      <th>ERZ</th>\n",
       "      <th>CDx</th>\n",
       "      <th>BJZHD</th>\n",
       "      <th>NKJUD</th>\n",
       "      <th>LPI</th>\n",
       "      <th>BJKG</th>\n",
       "      <th>POUG</th>\n",
       "      <th>TRE</th>\n",
       "      <th>ZUB</th>\n",
       "      <th>VOL</th>\n",
       "      <th>UIO</th>\n",
       "      <th>VBNM</th>\n",
       "      <th>Type</th>\n",
       "      <th>OIN</th>\n",
       "    </tr>\n",
       "  </thead>\n",
       "  <tbody>\n",
       "    <tr>\n",
       "      <th>0</th>\n",
       "      <td>0</td>\n",
       "      <td>160</td>\n",
       "      <td>oooo</td>\n",
       "      <td>x</td>\n",
       "      <td>oooo</td>\n",
       "      <td>www</td>\n",
       "      <td>5.0</td>\n",
       "      <td>vvvv</td>\n",
       "      <td>80.0</td>\n",
       "      <td>800000.0</td>\n",
       "      <td>qqqq</td>\n",
       "      <td>1</td>\n",
       "      <td>1.750</td>\n",
       "      <td>t</td>\n",
       "      <td>f</td>\n",
       "      <td>uuuu</td>\n",
       "      <td>t</td>\n",
       "      <td>n</td>\n",
       "      <td>17.92</td>\n",
       "    </tr>\n",
       "    <tr>\n",
       "      <th>1</th>\n",
       "      <td>1</td>\n",
       "      <td>153</td>\n",
       "      <td>rrr</td>\n",
       "      <td>NaN</td>\n",
       "      <td>uuu</td>\n",
       "      <td>pppp</td>\n",
       "      <td>0.0</td>\n",
       "      <td>mmm</td>\n",
       "      <td>200.0</td>\n",
       "      <td>2000000.0</td>\n",
       "      <td>qqqq</td>\n",
       "      <td>0</td>\n",
       "      <td>0.290</td>\n",
       "      <td>f</td>\n",
       "      <td>f</td>\n",
       "      <td>wwww</td>\n",
       "      <td>f</td>\n",
       "      <td>n</td>\n",
       "      <td>16.92</td>\n",
       "    </tr>\n",
       "    <tr>\n",
       "      <th>2</th>\n",
       "      <td>2</td>\n",
       "      <td>5</td>\n",
       "      <td>oooo</td>\n",
       "      <td>x</td>\n",
       "      <td>oooo</td>\n",
       "      <td>www</td>\n",
       "      <td>19.0</td>\n",
       "      <td>hh</td>\n",
       "      <td>96.0</td>\n",
       "      <td>960000.0</td>\n",
       "      <td>hh</td>\n",
       "      <td>1</td>\n",
       "      <td>0.000</td>\n",
       "      <td>f</td>\n",
       "      <td>f</td>\n",
       "      <td>wwww</td>\n",
       "      <td>t</td>\n",
       "      <td>n</td>\n",
       "      <td>31.25</td>\n",
       "    </tr>\n",
       "    <tr>\n",
       "      <th>3</th>\n",
       "      <td>3</td>\n",
       "      <td>9</td>\n",
       "      <td>oooo</td>\n",
       "      <td>NaN</td>\n",
       "      <td>oooo</td>\n",
       "      <td>www</td>\n",
       "      <td>120.0</td>\n",
       "      <td>kkk</td>\n",
       "      <td>0.0</td>\n",
       "      <td>0.0</td>\n",
       "      <td>qqq</td>\n",
       "      <td>0</td>\n",
       "      <td>0.335</td>\n",
       "      <td>f</td>\n",
       "      <td>f</td>\n",
       "      <td>uuuu</td>\n",
       "      <td>f</td>\n",
       "      <td>n</td>\n",
       "      <td>48.17</td>\n",
       "    </tr>\n",
       "    <tr>\n",
       "      <th>4</th>\n",
       "      <td>4</td>\n",
       "      <td>40</td>\n",
       "      <td>oooo</td>\n",
       "      <td>y</td>\n",
       "      <td>oooo</td>\n",
       "      <td>www</td>\n",
       "      <td>0.0</td>\n",
       "      <td>mmm</td>\n",
       "      <td>232.0</td>\n",
       "      <td>2320000.0</td>\n",
       "      <td>qqqq</td>\n",
       "      <td>0</td>\n",
       "      <td>0.500</td>\n",
       "      <td>t</td>\n",
       "      <td>f</td>\n",
       "      <td>wwww</td>\n",
       "      <td>f</td>\n",
       "      <td>n</td>\n",
       "      <td>32.33</td>\n",
       "    </tr>\n",
       "    <tr>\n",
       "      <th>...</th>\n",
       "      <td>...</td>\n",
       "      <td>...</td>\n",
       "      <td>...</td>\n",
       "      <td>...</td>\n",
       "      <td>...</td>\n",
       "      <td>...</td>\n",
       "      <td>...</td>\n",
       "      <td>...</td>\n",
       "      <td>...</td>\n",
       "      <td>...</td>\n",
       "      <td>...</td>\n",
       "      <td>...</td>\n",
       "      <td>...</td>\n",
       "      <td>...</td>\n",
       "      <td>...</td>\n",
       "      <td>...</td>\n",
       "      <td>...</td>\n",
       "      <td>...</td>\n",
       "      <td>...</td>\n",
       "    </tr>\n",
       "    <tr>\n",
       "      <th>3695</th>\n",
       "      <td>3695</td>\n",
       "      <td>74</td>\n",
       "      <td>oooo</td>\n",
       "      <td>x</td>\n",
       "      <td>oooo</td>\n",
       "      <td>www</td>\n",
       "      <td>26726.0</td>\n",
       "      <td>sss</td>\n",
       "      <td>NaN</td>\n",
       "      <td>NaN</td>\n",
       "      <td>qqqq</td>\n",
       "      <td>5</td>\n",
       "      <td>2.710</td>\n",
       "      <td>f</td>\n",
       "      <td>t</td>\n",
       "      <td>uuuu</td>\n",
       "      <td>t</td>\n",
       "      <td>y</td>\n",
       "      <td>18.75</td>\n",
       "    </tr>\n",
       "    <tr>\n",
       "      <th>3696</th>\n",
       "      <td>3696</td>\n",
       "      <td>179</td>\n",
       "      <td>oooo</td>\n",
       "      <td>x</td>\n",
       "      <td>oooo</td>\n",
       "      <td>www</td>\n",
       "      <td>0.0</td>\n",
       "      <td>sss</td>\n",
       "      <td>120.0</td>\n",
       "      <td>1200000.0</td>\n",
       "      <td>qqqq</td>\n",
       "      <td>5</td>\n",
       "      <td>8.500</td>\n",
       "      <td>t</td>\n",
       "      <td>t</td>\n",
       "      <td>uuuu</td>\n",
       "      <td>t</td>\n",
       "      <td>y</td>\n",
       "      <td>23.50</td>\n",
       "    </tr>\n",
       "    <tr>\n",
       "      <th>3697</th>\n",
       "      <td>3697</td>\n",
       "      <td>82</td>\n",
       "      <td>oooo</td>\n",
       "      <td>NaN</td>\n",
       "      <td>oooo</td>\n",
       "      <td>www</td>\n",
       "      <td>221.0</td>\n",
       "      <td>vvvv</td>\n",
       "      <td>0.0</td>\n",
       "      <td>0.0</td>\n",
       "      <td>qqqq</td>\n",
       "      <td>12</td>\n",
       "      <td>4.500</td>\n",
       "      <td>t</td>\n",
       "      <td>t</td>\n",
       "      <td>wwww</td>\n",
       "      <td>t</td>\n",
       "      <td>y</td>\n",
       "      <td>34.17</td>\n",
       "    </tr>\n",
       "    <tr>\n",
       "      <th>3698</th>\n",
       "      <td>3698</td>\n",
       "      <td>13</td>\n",
       "      <td>oooo</td>\n",
       "      <td>NaN</td>\n",
       "      <td>oooo</td>\n",
       "      <td>www</td>\n",
       "      <td>3.0</td>\n",
       "      <td>yyy</td>\n",
       "      <td>100.0</td>\n",
       "      <td>1000000.0</td>\n",
       "      <td>qqqq</td>\n",
       "      <td>5</td>\n",
       "      <td>3.750</td>\n",
       "      <td>t</td>\n",
       "      <td>t</td>\n",
       "      <td>wwww</td>\n",
       "      <td>t</td>\n",
       "      <td>y</td>\n",
       "      <td>27.83</td>\n",
       "    </tr>\n",
       "    <tr>\n",
       "      <th>3699</th>\n",
       "      <td>3699</td>\n",
       "      <td>57</td>\n",
       "      <td>oooo</td>\n",
       "      <td>y</td>\n",
       "      <td>oooo</td>\n",
       "      <td>www</td>\n",
       "      <td>4000.0</td>\n",
       "      <td>ggg</td>\n",
       "      <td>0.0</td>\n",
       "      <td>0.0</td>\n",
       "      <td>qqqq</td>\n",
       "      <td>0</td>\n",
       "      <td>5.000</td>\n",
       "      <td>t</td>\n",
       "      <td>t</td>\n",
       "      <td>uuuu</td>\n",
       "      <td>f</td>\n",
       "      <td>y</td>\n",
       "      <td>36.75</td>\n",
       "    </tr>\n",
       "  </tbody>\n",
       "</table>\n",
       "<p>3700 rows × 19 columns</p>\n",
       "</div>"
      ],
      "text/plain": [
       "        ID  UKL  GJAH  ZIK   HUI   ERZ      CDx BJZHD  NKJUD        LPI  BJKG  \\\n",
       "0        0  160  oooo    x  oooo   www      5.0  vvvv   80.0   800000.0  qqqq   \n",
       "1        1  153   rrr  NaN   uuu  pppp      0.0   mmm  200.0  2000000.0  qqqq   \n",
       "2        2    5  oooo    x  oooo   www     19.0    hh   96.0   960000.0    hh   \n",
       "3        3    9  oooo  NaN  oooo   www    120.0   kkk    0.0        0.0   qqq   \n",
       "4        4   40  oooo    y  oooo   www      0.0   mmm  232.0  2320000.0  qqqq   \n",
       "...    ...  ...   ...  ...   ...   ...      ...   ...    ...        ...   ...   \n",
       "3695  3695   74  oooo    x  oooo   www  26726.0   sss    NaN        NaN  qqqq   \n",
       "3696  3696  179  oooo    x  oooo   www      0.0   sss  120.0  1200000.0  qqqq   \n",
       "3697  3697   82  oooo  NaN  oooo   www    221.0  vvvv    0.0        0.0  qqqq   \n",
       "3698  3698   13  oooo  NaN  oooo   www      3.0   yyy  100.0  1000000.0  qqqq   \n",
       "3699  3699   57  oooo    y  oooo   www   4000.0   ggg    0.0        0.0  qqqq   \n",
       "\n",
       "      POUG    TRE ZUB VOL   UIO VBNM Type    OIN  \n",
       "0        1  1.750   t   f  uuuu    t    n  17.92  \n",
       "1        0  0.290   f   f  wwww    f    n  16.92  \n",
       "2        1  0.000   f   f  wwww    t    n  31.25  \n",
       "3        0  0.335   f   f  uuuu    f    n  48.17  \n",
       "4        0  0.500   t   f  wwww    f    n  32.33  \n",
       "...    ...    ...  ..  ..   ...  ...  ...    ...  \n",
       "3695     5  2.710   f   t  uuuu    t    y  18.75  \n",
       "3696     5  8.500   t   t  uuuu    t    y  23.50  \n",
       "3697    12  4.500   t   t  wwww    t    y  34.17  \n",
       "3698     5  3.750   t   t  wwww    t    y  27.83  \n",
       "3699     0  5.000   t   t  uuuu    f    y  36.75  \n",
       "\n",
       "[3700 rows x 19 columns]"
      ]
     },
     "execution_count": 15,
     "metadata": {},
     "output_type": "execute_result"
    }
   ],
   "source": [
    "data"
   ]
  },
  {
   "cell_type": "markdown",
   "metadata": {},
   "source": [
    "Let's examine each feature type"
   ]
  },
  {
   "cell_type": "code",
   "execution_count": 16,
   "metadata": {},
   "outputs": [
    {
     "name": "stdout",
     "output_type": "stream",
     "text": [
      "1\n",
      "179\n",
      "95.68837837837837\n",
      "99.0\n",
      "0    1\n",
      "Name: UKL, dtype: int64\n"
     ]
    }
   ],
   "source": [
    "#UKL: ints, range\n",
    "\n",
    "print(min(list(data['UKL'])))\n",
    "print(max(list(data['UKL'])))\n",
    "print(np.mean(list(data['UKL'])))\n",
    "print(data['UKL'].median())\n",
    "print(data['UKL'].mode())"
   ]
  },
  {
   "cell_type": "code",
   "execution_count": 17,
   "metadata": {},
   "outputs": [
    {
     "data": {
      "text/plain": [
       "Counter({'oooo': 3055, 'rrr': 549, nan: 64, 'ii': 32})"
      ]
     },
     "execution_count": 17,
     "metadata": {},
     "output_type": "execute_result"
    }
   ],
   "source": [
    "#GJAH\n",
    "Counter(list(data[\"GJAH\"]))"
   ]
  },
  {
   "cell_type": "code",
   "execution_count": 18,
   "metadata": {},
   "outputs": [
    {
     "data": {
      "text/plain": [
       "Counter({'x': 1023, nan: 2145, 'y': 532})"
      ]
     },
     "execution_count": 18,
     "metadata": {},
     "output_type": "execute_result"
    }
   ],
   "source": [
    "#GJAH\n",
    "Counter(list(data[\"ZIK\"]))"
   ]
  },
  {
   "cell_type": "markdown",
   "metadata": {},
   "source": [
    "ZIK feature seems not so useful, as the majority samples don't have any value for it."
   ]
  },
  {
   "cell_type": "code",
   "execution_count": 28,
   "metadata": {},
   "outputs": [
    {
     "data": {
      "text/plain": [
       "Counter({'oooo': 3430, 'uuu': 189, 'rrr': 81})"
      ]
     },
     "execution_count": 28,
     "metadata": {},
     "output_type": "execute_result"
    }
   ],
   "source": [
    "#GJAH\n",
    "Counter(list(data[\"HUI\"]))"
   ]
  },
  {
   "cell_type": "code",
   "execution_count": 31,
   "metadata": {},
   "outputs": [
    {
     "data": {
      "text/plain": [
       "Counter({'www': 3055, 'pppp': 549, nan: 64, 'nnn': 32})"
      ]
     },
     "execution_count": 31,
     "metadata": {},
     "output_type": "execute_result"
    }
   ],
   "source": [
    "#GJAH\n",
    "Counter(list(data[\"ERZ\"]))"
   ]
  },
  {
   "cell_type": "code",
   "execution_count": 33,
   "metadata": {},
   "outputs": [
    {
     "name": "stdout",
     "output_type": "stream",
     "text": [
      "0.0\n",
      "100000.0\n",
      "2246.705945945946\n",
      "113.0\n",
      "0    0.0\n",
      "Name: CDx, dtype: float64\n"
     ]
    }
   ],
   "source": [
    "#CDx\n",
    "\n",
    "print(min(list(data['CDx'])))\n",
    "print(max(list(data['CDx'])))\n",
    "print(np.mean(list(data['CDx'])))\n",
    "print(data['CDx'].median())\n",
    "print(data['CDx'].mode())"
   ]
  },
  {
   "cell_type": "code",
   "execution_count": 34,
   "metadata": {},
   "outputs": [
    {
     "data": {
      "text/plain": [
       "Counter({'vvvv': 787,\n",
       "         'mmm': 170,\n",
       "         'hh': 136,\n",
       "         'kkk': 191,\n",
       "         'lll': 39,\n",
       "         'sss': 612,\n",
       "         'yyy': 457,\n",
       "         'ooo': 179,\n",
       "         'ee': 553,\n",
       "         'xxx': 33,\n",
       "         'zzz': 340,\n",
       "         'ggg': 137,\n",
       "         nan: 66})"
      ]
     },
     "execution_count": 34,
     "metadata": {},
     "output_type": "execute_result"
    }
   ],
   "source": [
    "Counter(list(data[\"BJZHD\"]))"
   ]
  },
  {
   "cell_type": "code",
   "execution_count": 36,
   "metadata": {},
   "outputs": [
    {
     "name": "stdout",
     "output_type": "stream",
     "text": [
      "0.0\n",
      "1160.0\n",
      "nan\n",
      "120.0\n",
      "0    0.0\n",
      "Name: NKJUD, dtype: float64\n"
     ]
    }
   ],
   "source": [
    "print(min(list(data['NKJUD'])))\n",
    "print(max(list(data['NKJUD'])))\n",
    "print(np.mean(list(data['NKJUD'])))\n",
    "print(data['NKJUD'].median())\n",
    "print(data['NKJUD'].mode())"
   ]
  },
  {
   "cell_type": "code",
   "execution_count": 38,
   "metadata": {},
   "outputs": [
    {
     "name": "stdout",
     "output_type": "stream",
     "text": [
      "0.0\n",
      "11600000.0\n",
      "nan\n",
      "1200000.0\n",
      "0    0.0\n",
      "Name: LPI, dtype: float64\n"
     ]
    }
   ],
   "source": [
    "print(min(list(data['LPI'])))\n",
    "print(max(list(data['LPI'])))\n",
    "print(np.mean(list(data['LPI'])))\n",
    "print(data['LPI'].median())\n",
    "print(data['LPI'].mode())"
   ]
  },
  {
   "cell_type": "code",
   "execution_count": 57,
   "metadata": {},
   "outputs": [
    {
     "data": {
      "text/plain": [
       "Counter({'qqqq': 2081,\n",
       "         'hh': 154,\n",
       "         'qqq': 17,\n",
       "         'hhhh': 970,\n",
       "         'lll': 37,\n",
       "         'yy': 359,\n",
       "         'ppp': 33,\n",
       "         'bbb': 49})"
      ]
     },
     "execution_count": 57,
     "metadata": {},
     "output_type": "execute_result"
    }
   ],
   "source": [
    "Counter(list(data[\"BJKG\"]))"
   ]
  },
  {
   "cell_type": "code",
   "execution_count": 40,
   "metadata": {},
   "outputs": [
    {
     "data": {
      "text/plain": [
       "Counter({1: 367,\n",
       "         0: 1461,\n",
       "         2: 227,\n",
       "         3: 260,\n",
       "         5: 193,\n",
       "         15: 64,\n",
       "         20: 16,\n",
       "         11: 193,\n",
       "         4: 130,\n",
       "         12: 80,\n",
       "         7: 161,\n",
       "         9: 80,\n",
       "         14: 32,\n",
       "         6: 194,\n",
       "         10: 34,\n",
       "         16: 48,\n",
       "         8: 64,\n",
       "         19: 16,\n",
       "         23: 16,\n",
       "         13: 16,\n",
       "         67: 16,\n",
       "         40: 16,\n",
       "         17: 16})"
      ]
     },
     "execution_count": 40,
     "metadata": {},
     "output_type": "execute_result"
    }
   ],
   "source": [
    "Counter(list(data[\"POUG\"]))"
   ]
  },
  {
   "cell_type": "code",
   "execution_count": 54,
   "metadata": {},
   "outputs": [
    {
     "name": "stdout",
     "output_type": "stream",
     "text": [
      "0.0\n",
      "28.5\n",
      "3.4394959459459455\n",
      "1.75\n",
      "0.0\n"
     ]
    }
   ],
   "source": [
    "print(min(list(data['TRE'])))\n",
    "print(max(list(data['TRE'])))\n",
    "print(np.mean(list(data['TRE'])))\n",
    "print(data['TRE'].median())\n",
    "print(data['TRE'].mode().iloc[0])"
   ]
  },
  {
   "cell_type": "code",
   "execution_count": 52,
   "metadata": {},
   "outputs": [],
   "source": [
    "a = data['TRE'].mode()"
   ]
  },
  {
   "cell_type": "code",
   "execution_count": 53,
   "metadata": {},
   "outputs": [
    {
     "data": {
      "text/plain": [
       "0    0.0\n",
       "Name: TRE, dtype: float64"
      ]
     },
     "execution_count": 53,
     "metadata": {},
     "output_type": "execute_result"
    }
   ],
   "source": [
    "a"
   ]
  },
  {
   "cell_type": "code",
   "execution_count": 43,
   "metadata": {},
   "outputs": [
    {
     "data": {
      "text/plain": [
       "Counter({'t': 1776, 'f': 1924})"
      ]
     },
     "execution_count": 43,
     "metadata": {},
     "output_type": "execute_result"
    }
   ],
   "source": [
    "Counter(list(data[\"ZUB\"]))"
   ]
  },
  {
   "cell_type": "code",
   "execution_count": 44,
   "metadata": {},
   "outputs": [
    {
     "data": {
      "text/plain": [
       "Counter({'f': 529, 't': 3171})"
      ]
     },
     "execution_count": 44,
     "metadata": {},
     "output_type": "execute_result"
    }
   ],
   "source": [
    "Counter(list(data[\"VOL\"]))"
   ]
  },
  {
   "cell_type": "code",
   "execution_count": 45,
   "metadata": {},
   "outputs": [
    {
     "data": {
      "text/plain": [
       "Counter({'uuuu': 1279, 'wwww': 2382, nan: 39})"
      ]
     },
     "execution_count": 45,
     "metadata": {},
     "output_type": "execute_result"
    }
   ],
   "source": [
    "Counter(list(data[\"UIO\"]))"
   ]
  },
  {
   "cell_type": "code",
   "execution_count": 46,
   "metadata": {},
   "outputs": [
    {
     "data": {
      "text/plain": [
       "Counter({'t': 2239, 'f': 1461})"
      ]
     },
     "execution_count": 46,
     "metadata": {},
     "output_type": "execute_result"
    }
   ],
   "source": [
    "Counter(list(data[\"VBNM\"]))"
   ]
  },
  {
   "cell_type": "code",
   "execution_count": 51,
   "metadata": {},
   "outputs": [
    {
     "name": "stdout",
     "output_type": "stream",
     "text": [
      "13.75\n",
      "80.25\n",
      "True\n",
      "28.67\n",
      "0    23.25\n",
      "Name: OIN, dtype: float64\n"
     ]
    }
   ],
   "source": [
    "print(min(list(data['OIN'])))\n",
    "print(max(list(data['OIN'])))\n",
    "print(np.mean(list(data['OIN'])))\n",
    "print(data['OIN'].median())\n",
    "print(data['OIN'].mode())"
   ]
  },
  {
   "cell_type": "code",
   "execution_count": 49,
   "metadata": {},
   "outputs": [
    {
     "data": {
      "text/plain": [
       "Counter({'n': 276, 'y': 3424})"
      ]
     },
     "execution_count": 49,
     "metadata": {},
     "output_type": "execute_result"
    }
   ],
   "source": [
    "Counter(list(data[\"Type\"]))"
   ]
  },
  {
   "cell_type": "markdown",
   "metadata": {},
   "source": [
    "Impute missing values of the numerical features, for example by replacing them with the mean value for the respective feature."
   ]
  },
  {
   "cell_type": "code",
   "execution_count": 19,
   "metadata": {},
   "outputs": [],
   "source": [
    "# Iterate through rows of the penguins df\n",
    "for index, row in data.iterrows():\n",
    "    for column_name, value in row.items():\n",
    "        # Check for NaN values\n",
    "        if isinstance(value, (int, float)) and math.isnan(value):\n",
    "            try:\n",
    "                # replace NaN values of numerical features with the mean value for the respective feature over all data\n",
    "                mode_value = data[column_name].mode().iloc[0]\n",
    "                data.at[index, column_name] = mode_value\n",
    "                # if the NaN value is a non-numerical feature, don't do anything\n",
    "            except TypeError:\n",
    "                continue"
   ]
  },
  {
   "cell_type": "markdown",
   "metadata": {},
   "source": [
    "Check if variables are correlated"
   ]
  },
  {
   "cell_type": "code",
   "execution_count": 22,
   "metadata": {},
   "outputs": [],
   "source": [
    "feature_floats = data.select_dtypes(include=['float64'])"
   ]
  },
  {
   "cell_type": "code",
   "execution_count": 23,
   "metadata": {},
   "outputs": [],
   "source": [
    "feature_names = list(feature_floats.columns)"
   ]
  },
  {
   "cell_type": "code",
   "execution_count": 24,
   "metadata": {},
   "outputs": [],
   "source": [
    "correlations = data[feature_names].corr()"
   ]
  },
  {
   "cell_type": "code",
   "execution_count": 25,
   "metadata": {},
   "outputs": [
    {
     "data": {
      "text/html": [
       "<div>\n",
       "<style scoped>\n",
       "    .dataframe tbody tr th:only-of-type {\n",
       "        vertical-align: middle;\n",
       "    }\n",
       "\n",
       "    .dataframe tbody tr th {\n",
       "        vertical-align: top;\n",
       "    }\n",
       "\n",
       "    .dataframe thead th {\n",
       "        text-align: right;\n",
       "    }\n",
       "</style>\n",
       "<table border=\"1\" class=\"dataframe\">\n",
       "  <thead>\n",
       "    <tr style=\"text-align: right;\">\n",
       "      <th></th>\n",
       "      <th>CDx</th>\n",
       "      <th>NKJUD</th>\n",
       "      <th>LPI</th>\n",
       "      <th>TRE</th>\n",
       "      <th>OIN</th>\n",
       "    </tr>\n",
       "  </thead>\n",
       "  <tbody>\n",
       "    <tr>\n",
       "      <th>CDx</th>\n",
       "      <td>1.000000</td>\n",
       "      <td>0.145232</td>\n",
       "      <td>0.145232</td>\n",
       "      <td>-0.004123</td>\n",
       "      <td>-0.007921</td>\n",
       "    </tr>\n",
       "    <tr>\n",
       "      <th>NKJUD</th>\n",
       "      <td>0.145232</td>\n",
       "      <td>1.000000</td>\n",
       "      <td>1.000000</td>\n",
       "      <td>-0.195718</td>\n",
       "      <td>-0.149966</td>\n",
       "    </tr>\n",
       "    <tr>\n",
       "      <th>LPI</th>\n",
       "      <td>0.145232</td>\n",
       "      <td>1.000000</td>\n",
       "      <td>1.000000</td>\n",
       "      <td>-0.195718</td>\n",
       "      <td>-0.149966</td>\n",
       "    </tr>\n",
       "    <tr>\n",
       "      <th>TRE</th>\n",
       "      <td>-0.004123</td>\n",
       "      <td>-0.195718</td>\n",
       "      <td>-0.195718</td>\n",
       "      <td>1.000000</td>\n",
       "      <td>0.511143</td>\n",
       "    </tr>\n",
       "    <tr>\n",
       "      <th>OIN</th>\n",
       "      <td>-0.007921</td>\n",
       "      <td>-0.149966</td>\n",
       "      <td>-0.149966</td>\n",
       "      <td>0.511143</td>\n",
       "      <td>1.000000</td>\n",
       "    </tr>\n",
       "  </tbody>\n",
       "</table>\n",
       "</div>"
      ],
      "text/plain": [
       "            CDx     NKJUD       LPI       TRE       OIN\n",
       "CDx    1.000000  0.145232  0.145232 -0.004123 -0.007921\n",
       "NKJUD  0.145232  1.000000  1.000000 -0.195718 -0.149966\n",
       "LPI    0.145232  1.000000  1.000000 -0.195718 -0.149966\n",
       "TRE   -0.004123 -0.195718 -0.195718  1.000000  0.511143\n",
       "OIN   -0.007921 -0.149966 -0.149966  0.511143  1.000000"
      ]
     },
     "execution_count": 25,
     "metadata": {},
     "output_type": "execute_result"
    }
   ],
   "source": [
    "correlations"
   ]
  },
  {
   "cell_type": "code",
   "execution_count": 26,
   "metadata": {},
   "outputs": [
    {
     "data": {
      "text/plain": [
       "Index(['ID', 'UKL', 'GJAH', 'ZIK', 'HUI', 'ERZ', 'CDx', 'BJZHD', 'NKJUD',\n",
       "       'LPI', 'BJKG', 'POUG', 'TRE', 'ZUB', 'VOL', 'UIO', 'VBNM', 'Type',\n",
       "       'OIN'],\n",
       "      dtype='object')"
      ]
     },
     "execution_count": 26,
     "metadata": {},
     "output_type": "execute_result"
    }
   ],
   "source": [
    "data.columns"
   ]
  },
  {
   "cell_type": "code",
   "execution_count": 72,
   "metadata": {},
   "outputs": [],
   "source": [
    "from sklearn.preprocessing import LabelEncoder"
   ]
  },
  {
   "cell_type": "code",
   "execution_count": 73,
   "metadata": {},
   "outputs": [
    {
     "name": "stdout",
     "output_type": "stream",
     "text": [
      "ID         int64\n",
      "UKL        int64\n",
      "GJAH      object\n",
      "ZIK       object\n",
      "HUI       object\n",
      "ERZ       object\n",
      "CDx      float64\n",
      "BJZHD     object\n",
      "NKJUD    float64\n",
      "LPI      float64\n",
      "BJKG      object\n",
      "POUG       int64\n",
      "TRE      float64\n",
      "ZUB       object\n",
      "VOL       object\n",
      "UIO       object\n",
      "VBNM      object\n",
      "Type      object\n",
      "OIN      float64\n",
      "dtype: object\n"
     ]
    }
   ],
   "source": [
    "print(data.dtypes)\n"
   ]
  },
  {
   "cell_type": "code",
   "execution_count": 74,
   "metadata": {},
   "outputs": [
    {
     "data": {
      "text/html": [
       "<div>\n",
       "<style scoped>\n",
       "    .dataframe tbody tr th:only-of-type {\n",
       "        vertical-align: middle;\n",
       "    }\n",
       "\n",
       "    .dataframe tbody tr th {\n",
       "        vertical-align: top;\n",
       "    }\n",
       "\n",
       "    .dataframe thead th {\n",
       "        text-align: right;\n",
       "    }\n",
       "</style>\n",
       "<table border=\"1\" class=\"dataframe\">\n",
       "  <thead>\n",
       "    <tr style=\"text-align: right;\">\n",
       "      <th></th>\n",
       "      <th>ID</th>\n",
       "      <th>UKL</th>\n",
       "      <th>GJAH</th>\n",
       "      <th>ZIK</th>\n",
       "      <th>HUI</th>\n",
       "      <th>ERZ</th>\n",
       "      <th>CDx</th>\n",
       "      <th>BJZHD</th>\n",
       "      <th>NKJUD</th>\n",
       "      <th>LPI</th>\n",
       "      <th>BJKG</th>\n",
       "      <th>POUG</th>\n",
       "      <th>TRE</th>\n",
       "      <th>ZUB</th>\n",
       "      <th>VOL</th>\n",
       "      <th>UIO</th>\n",
       "      <th>VBNM</th>\n",
       "      <th>Type</th>\n",
       "      <th>OIN</th>\n",
       "    </tr>\n",
       "  </thead>\n",
       "  <tbody>\n",
       "    <tr>\n",
       "      <th>0</th>\n",
       "      <td>0</td>\n",
       "      <td>160</td>\n",
       "      <td>oooo</td>\n",
       "      <td>x</td>\n",
       "      <td>oooo</td>\n",
       "      <td>www</td>\n",
       "      <td>5.0</td>\n",
       "      <td>vvvv</td>\n",
       "      <td>80.0</td>\n",
       "      <td>800000.0</td>\n",
       "      <td>qqqq</td>\n",
       "      <td>1</td>\n",
       "      <td>1.750</td>\n",
       "      <td>t</td>\n",
       "      <td>f</td>\n",
       "      <td>uuuu</td>\n",
       "      <td>t</td>\n",
       "      <td>n</td>\n",
       "      <td>17.92</td>\n",
       "    </tr>\n",
       "    <tr>\n",
       "      <th>1</th>\n",
       "      <td>1</td>\n",
       "      <td>153</td>\n",
       "      <td>rrr</td>\n",
       "      <td>x</td>\n",
       "      <td>uuu</td>\n",
       "      <td>pppp</td>\n",
       "      <td>0.0</td>\n",
       "      <td>mmm</td>\n",
       "      <td>200.0</td>\n",
       "      <td>2000000.0</td>\n",
       "      <td>qqqq</td>\n",
       "      <td>0</td>\n",
       "      <td>0.290</td>\n",
       "      <td>f</td>\n",
       "      <td>f</td>\n",
       "      <td>wwww</td>\n",
       "      <td>f</td>\n",
       "      <td>n</td>\n",
       "      <td>16.92</td>\n",
       "    </tr>\n",
       "    <tr>\n",
       "      <th>2</th>\n",
       "      <td>2</td>\n",
       "      <td>5</td>\n",
       "      <td>oooo</td>\n",
       "      <td>x</td>\n",
       "      <td>oooo</td>\n",
       "      <td>www</td>\n",
       "      <td>19.0</td>\n",
       "      <td>hh</td>\n",
       "      <td>96.0</td>\n",
       "      <td>960000.0</td>\n",
       "      <td>hh</td>\n",
       "      <td>1</td>\n",
       "      <td>0.000</td>\n",
       "      <td>f</td>\n",
       "      <td>f</td>\n",
       "      <td>wwww</td>\n",
       "      <td>t</td>\n",
       "      <td>n</td>\n",
       "      <td>31.25</td>\n",
       "    </tr>\n",
       "    <tr>\n",
       "      <th>3</th>\n",
       "      <td>3</td>\n",
       "      <td>9</td>\n",
       "      <td>oooo</td>\n",
       "      <td>x</td>\n",
       "      <td>oooo</td>\n",
       "      <td>www</td>\n",
       "      <td>120.0</td>\n",
       "      <td>kkk</td>\n",
       "      <td>0.0</td>\n",
       "      <td>0.0</td>\n",
       "      <td>qqq</td>\n",
       "      <td>0</td>\n",
       "      <td>0.335</td>\n",
       "      <td>f</td>\n",
       "      <td>f</td>\n",
       "      <td>uuuu</td>\n",
       "      <td>f</td>\n",
       "      <td>n</td>\n",
       "      <td>48.17</td>\n",
       "    </tr>\n",
       "    <tr>\n",
       "      <th>4</th>\n",
       "      <td>4</td>\n",
       "      <td>40</td>\n",
       "      <td>oooo</td>\n",
       "      <td>y</td>\n",
       "      <td>oooo</td>\n",
       "      <td>www</td>\n",
       "      <td>0.0</td>\n",
       "      <td>mmm</td>\n",
       "      <td>232.0</td>\n",
       "      <td>2320000.0</td>\n",
       "      <td>qqqq</td>\n",
       "      <td>0</td>\n",
       "      <td>0.500</td>\n",
       "      <td>t</td>\n",
       "      <td>f</td>\n",
       "      <td>wwww</td>\n",
       "      <td>f</td>\n",
       "      <td>n</td>\n",
       "      <td>32.33</td>\n",
       "    </tr>\n",
       "  </tbody>\n",
       "</table>\n",
       "</div>"
      ],
      "text/plain": [
       "   ID  UKL  GJAH ZIK   HUI   ERZ    CDx BJZHD  NKJUD        LPI  BJKG  POUG  \\\n",
       "0   0  160  oooo   x  oooo   www    5.0  vvvv   80.0   800000.0  qqqq     1   \n",
       "1   1  153   rrr   x   uuu  pppp    0.0   mmm  200.0  2000000.0  qqqq     0   \n",
       "2   2    5  oooo   x  oooo   www   19.0    hh   96.0   960000.0    hh     1   \n",
       "3   3    9  oooo   x  oooo   www  120.0   kkk    0.0        0.0   qqq     0   \n",
       "4   4   40  oooo   y  oooo   www    0.0   mmm  232.0  2320000.0  qqqq     0   \n",
       "\n",
       "     TRE ZUB VOL   UIO VBNM Type    OIN  \n",
       "0  1.750   t   f  uuuu    t    n  17.92  \n",
       "1  0.290   f   f  wwww    f    n  16.92  \n",
       "2  0.000   f   f  wwww    t    n  31.25  \n",
       "3  0.335   f   f  uuuu    f    n  48.17  \n",
       "4  0.500   t   f  wwww    f    n  32.33  "
      ]
     },
     "execution_count": 74,
     "metadata": {},
     "output_type": "execute_result"
    }
   ],
   "source": [
    "data.head()"
   ]
  },
  {
   "cell_type": "code",
   "execution_count": 76,
   "metadata": {},
   "outputs": [],
   "source": [
    "features_object = data.select_dtypes(include=['object'])"
   ]
  },
  {
   "cell_type": "code",
   "execution_count": 78,
   "metadata": {},
   "outputs": [
    {
     "name": "stdout",
     "output_type": "stream",
     "text": [
      "             ID       UKL      GJAH       ZIK       HUI       ERZ       CDx  \\\n",
      "ID     1.000000  0.014324 -0.064574 -0.084820 -0.026516  0.054450  0.025607   \n",
      "UKL    0.014324  1.000000 -0.153489 -0.005195 -0.103472  0.085023  0.017122   \n",
      "GJAH  -0.064574 -0.153489  1.000000  0.028384 -0.057361 -0.738061 -0.167611   \n",
      "ZIK   -0.084820 -0.005195  0.028384  1.000000  0.204673 -0.187237  0.075438   \n",
      "HUI   -0.026516 -0.103472 -0.057361  0.204673  1.000000 -0.143220  0.038454   \n",
      "ERZ    0.054450  0.085023 -0.738061 -0.187237 -0.143220  1.000000 -0.203215   \n",
      "CDx    0.025607  0.017122 -0.167611  0.075438  0.038454 -0.203215  1.000000   \n",
      "BJZHD  0.026066 -0.061222  0.123224  0.015256  0.029938 -0.021287 -0.122146   \n",
      "NKJUD -0.020351  0.030814  0.096362  0.049817  0.011977 -0.181914  0.145232   \n",
      "LPI   -0.020351  0.030814  0.096362  0.049817  0.011977 -0.181914  0.145232   \n",
      "BJKG   0.009677 -0.053672  0.035539 -0.004047  0.098792  0.020970  0.030955   \n",
      "POUG   0.073644  0.070091 -0.036577 -0.252567 -0.153437  0.074941 -0.007082   \n",
      "TRE    0.066957  0.064982 -0.102383 -0.095498 -0.030848  0.072583 -0.004123   \n",
      "ZUB    0.018786  0.025770  0.109183 -0.029849 -0.096988 -0.171140  0.036778   \n",
      "VOL    0.239203  0.079013 -0.056392 -0.228720 -0.264635  0.214103 -0.042271   \n",
      "UIO   -0.010595 -0.126597  0.070059  0.019273  0.023101 -0.044526  0.003780   \n",
      "VBNM   0.103292  0.118051 -0.090738 -0.507300 -0.293523  0.166765  0.002502   \n",
      "Type   0.430267  0.029688 -0.128814 -0.176833 -0.055473  0.102442  0.066893   \n",
      "OIN    0.025784  0.007008 -0.106292 -0.069005 -0.086589  0.177682 -0.007921   \n",
      "\n",
      "          BJZHD     NKJUD       LPI      BJKG      POUG       TRE       ZUB  \\\n",
      "ID     0.026066 -0.020351 -0.020351  0.009677  0.073644  0.066957  0.018786   \n",
      "UKL   -0.061222  0.030814  0.030814 -0.053672  0.070091  0.064982  0.025770   \n",
      "GJAH   0.123224  0.096362  0.096362  0.035539 -0.036577 -0.102383  0.109183   \n",
      "ZIK    0.015256  0.049817  0.049817 -0.004047 -0.252567 -0.095498 -0.029849   \n",
      "HUI    0.029938  0.011977  0.011977  0.098792 -0.153437 -0.030848 -0.096988   \n",
      "ERZ   -0.021287 -0.181914 -0.181914  0.020970  0.074941  0.072583 -0.171140   \n",
      "CDx   -0.122146  0.145232  0.145232  0.030955 -0.007082 -0.004123  0.036778   \n",
      "BJZHD  1.000000  0.063035  0.063035  0.095797 -0.058080 -0.026787  0.049629   \n",
      "NKJUD  0.063035  1.000000  1.000000  0.026118 -0.140458 -0.195718  0.196813   \n",
      "LPI    0.063035  1.000000  1.000000  0.026118 -0.140458 -0.195718  0.196813   \n",
      "BJKG   0.095797  0.026118  0.026118  1.000000  0.006988 -0.177833 -0.069913   \n",
      "POUG  -0.058080 -0.140458 -0.140458  0.006988  1.000000  0.304266  0.025955   \n",
      "TRE   -0.026787 -0.195718 -0.195718 -0.177833  0.304266  1.000000  0.121654   \n",
      "ZUB    0.049629  0.196813  0.196813 -0.069913  0.025955  0.121654  1.000000   \n",
      "VOL   -0.003983 -0.079790 -0.079790 -0.060624  0.238122  0.207851  0.063239   \n",
      "UIO    0.149486  0.101042  0.101042  0.061051  0.018577  0.173827  0.135270   \n",
      "VBNM  -0.013128 -0.071133 -0.071133  0.006940  0.497864  0.177360  0.010270   \n",
      "Type   0.062536 -0.053624 -0.053624  0.011206  0.153039  0.141394  0.042168   \n",
      "OIN   -0.192861 -0.149966 -0.149966 -0.147417  0.210427  0.511143  0.133060   \n",
      "\n",
      "            VOL       UIO      VBNM      Type       OIN  \n",
      "ID     0.239203 -0.010595  0.103292  0.430267  0.025784  \n",
      "UKL    0.079013 -0.126597  0.118051  0.029688  0.007008  \n",
      "GJAH  -0.056392  0.070059 -0.090738 -0.128814 -0.106292  \n",
      "ZIK   -0.228720  0.019273 -0.507300 -0.176833 -0.069005  \n",
      "HUI   -0.264635  0.023101 -0.293523 -0.055473 -0.086589  \n",
      "ERZ    0.214103 -0.044526  0.166765  0.102442  0.177682  \n",
      "CDx   -0.042271  0.003780  0.002502  0.066893 -0.007921  \n",
      "BJZHD -0.003983  0.149486 -0.013128  0.062536 -0.192861  \n",
      "NKJUD -0.079790  0.101042 -0.071133 -0.053624 -0.149966  \n",
      "LPI   -0.079790  0.101042 -0.071133 -0.053624 -0.149966  \n",
      "BJKG  -0.060624  0.061051  0.006940  0.011206 -0.147417  \n",
      "POUG   0.238122  0.018577  0.497864  0.153039  0.210427  \n",
      "TRE    0.207851  0.173827  0.177360  0.141394  0.511143  \n",
      "ZUB    0.063239  0.135270  0.010270  0.042168  0.133060  \n",
      "VOL    1.000000 -0.056598  0.399801  0.545244  0.125821  \n",
      "UIO   -0.056598  1.000000 -0.073279 -0.035487  0.030818  \n",
      "VBNM   0.399801 -0.073279  1.000000  0.218894  0.068986  \n",
      "Type   0.545244 -0.035487  0.218894  1.000000  0.064317  \n",
      "OIN    0.125821  0.030818  0.068986  0.064317  1.000000  \n"
     ]
    }
   ],
   "source": [
    "df_corr = data\n",
    "# Encode categorical features\n",
    "label_encoder = LabelEncoder()\n",
    "\n",
    "for col in features_object:\n",
    "    df_corr[col] = label_encoder.fit_transform(df_corr[col])\n",
    "\n",
    "# Compute the correlation matrix\n",
    "correlation_matrix = df_corr.corr()\n",
    "print(correlation_matrix)"
   ]
  },
  {
   "cell_type": "markdown",
   "metadata": {},
   "source": [
    "Hypothesis testing - is at least 1 pred useful?"
   ]
  },
  {
   "cell_type": "code",
   "execution_count": null,
   "metadata": {},
   "outputs": [],
   "source": []
  },
  {
   "cell_type": "markdown",
   "metadata": {},
   "source": [
    "Check if the relationship is linear, if the variances are equal, if the covariances are equal, etc."
   ]
  },
  {
   "cell_type": "markdown",
   "metadata": {},
   "source": [
    "Maybe try Lasso regression, too many features, maybe we can somehow do feature selection"
   ]
  },
  {
   "cell_type": "code",
   "execution_count": null,
   "metadata": {},
   "outputs": [],
   "source": []
  },
  {
   "cell_type": "code",
   "execution_count": null,
   "metadata": {},
   "outputs": [],
   "source": []
  },
  {
   "cell_type": "markdown",
   "metadata": {},
   "source": []
  }
 ],
 "metadata": {
  "kernelspec": {
   "display_name": "Python 3",
   "language": "python",
   "name": "python3"
  },
  "language_info": {
   "codemirror_mode": {
    "name": "ipython",
    "version": 3
   },
   "file_extension": ".py",
   "mimetype": "text/x-python",
   "name": "python",
   "nbconvert_exporter": "python",
   "pygments_lexer": "ipython3",
   "version": "3.11.0"
  }
 },
 "nbformat": 4,
 "nbformat_minor": 2
}
